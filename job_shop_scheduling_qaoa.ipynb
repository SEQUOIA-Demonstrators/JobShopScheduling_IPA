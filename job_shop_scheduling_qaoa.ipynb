{
 "cells": [
  {
   "attachments": {},
   "cell_type": "markdown",
   "id": "5fb3f6cd",
   "metadata": {},
   "source": [
    "---\n",
    "\n",
    "(c) Author: Arthur Grigorjan, arthur.grigrojan@ipa.fraunhofer.de\n",
    "\n",
    "---"
   ]
  },
  {
   "attachments": {},
   "cell_type": "markdown",
   "id": "f55bd84a",
   "metadata": {},
   "source": [
    "# Solving Job Shop Scheduling Problems using QAOA on the IBM Q System One\n",
    "\n",
    "The third SEQUOIA-Use-Case \"Optimization of order sequencing in discrete manufacturing\" deals with the distribution of production orders on different production resources.\n",
    "\n",
    "This demonstrator shows an approach to solve the job shop scheduling problem (JSP) problem on the IBM Q System One.\n",
    "The JSP deals with the distribution of production orders (jobs) on different production resources (machines).\n",
    "This problem exists in almost all manufacturing industries, however, it usually varies in detail in the influencing factors to be mapped (e.g. material availability, employee skills, plant capacities, etc.), constraints or objectives to be optimized.\n",
    "A widely used definition of this problem type in the literature is the job shop schedluing problem. This is a condensed version of the problem which defines the following influencing factors for a classical JSP:\n",
    "\n",
    "There are a number of production orders (jobs) to be processed, where each job can consist of a number of production steps (operations) that must be processed in a specified order. Each production step must be performed on a specific piece of equipment (machine). The equipment is subject to a number of restrictions. For example, the previous manufacturing steps of each job must be completed before the current manufacturing step can be processed.\n",
    "Also, a machine can only process one operation at any given time.\n",
    "Operations cannot be paused. The goal of the classic JSP is to minimize the total production time (Makespan).\n",
    "\n",
    "\n",
    "![Time indexed QUBO for the JSP](./img/time-indexed_qubo-JSP.PNG)\n",
    "\n",
    "We use the time indexed QUBO to formulate the objective function of the job shop scheduling problem as described by Zhang et al. [1].\n",
    "\n",
    "Desciption of the penalty term:\n",
    "\n",
    "p4 - The penalty term p4 motivates the QUBO to start an operation as often as possible. This has to be mitigated by the other penalty erms.\n",
    "\n",
    "p5 - The penalty term p5 motivates the QUBO to make sure that the processing order of all operations of a job is correct. (precedence contrainat) \n",
    "\n",
    "p6 - The penalty term p6 motivates the QUBO to make sure that at any given point of time there are not multiple operations beeing processed at a given machine. (resource contraint) \n",
    "\n",
    "p7 - The penalty term p7 motivates the QUBO to complete the last opeartion of each job as early as possible.\n",
    "\n",
    "\n",
    "\n",
    "-----\n",
    "\n",
    "[1] Zhang, J., Lo Bianco, G. and Beck, J. C. (2022) “Solving Job-Shop Scheduling Problems with QUBO-Based Specialized Hardware”, Proceedings of the International Conference on Automated Planning and Scheduling, 32(1), pp. 404-412. doi: 10.1609/icaps.v32i1.19826. \n",
    "\n",
    "https://ojs.aaai.org/index.php/ICAPS/article/view/19826\n",
    "\n",
    "\n",
    "-----"
   ]
  },
  {
   "attachments": {},
   "cell_type": "markdown",
   "id": "ca3a56ab",
   "metadata": {},
   "source": [
    "# Import dependecies"
   ]
  },
  {
   "cell_type": "code",
   "execution_count": 1,
   "id": "87c07b0e-4c03-4ad1-be00-9d340f7714b8",
   "metadata": {},
   "outputs": [],
   "source": [
    "import numpy as np\n",
    "from typing import Dict, List, Optional, Tuple, Union, cast\n",
    "\n",
    "# Import helper functions for the JSP (drawing, JSP data class, calculating makespan of a schedule etc.)\n",
    "from jsp_utils import *"
   ]
  },
  {
   "attachments": {},
   "cell_type": "markdown",
   "id": "bca47bb7",
   "metadata": {},
   "source": [
    "# Configure the parameters for a JSP instance"
   ]
  },
  {
   "cell_type": "code",
   "execution_count": 2,
   "id": "5effdb15",
   "metadata": {},
   "outputs": [],
   "source": [
    "jsp_filepath = './data/agrg_minimal.txt'"
   ]
  },
  {
   "attachments": {},
   "cell_type": "markdown",
   "id": "cd1e04b7",
   "metadata": {},
   "source": [
    "##### The following parameters should be initialized by a heuristic in the future\n"
   ]
  },
  {
   "cell_type": "code",
   "execution_count": 3,
   "id": "a3239cce-c9a9-4e76-81b4-1f2256aa7750",
   "metadata": {},
   "outputs": [],
   "source": [
    "# penalty term values\n",
    "\n",
    "p4 = 1 # everyoperation has to start\n",
    "p5 = 1 # precedence contrainats\n",
    "p6 = 1 # resource contraint\n",
    "p7 = 1 # no job exceed makespan\n"
   ]
  },
  {
   "cell_type": "code",
   "execution_count": 4,
   "id": "27f27bdf-7eb9-4c97-a3cc-bd1b2d217874",
   "metadata": {},
   "outputs": [],
   "source": [
    "# The horizon has to be estimated in advance in a smart way...\n",
    "horizon = 2 # T as described in the QUBO\n",
    "\n",
    "# Upper and lower boundaries of the integer variables have to be estimated\n",
    "\n",
    "# makespan int var for the cost function and penalty term 7\n",
    "c_max_lb = int(horizon*0.0)\n",
    "c_max_ub = horizon\n",
    "\n",
    "# slack variables for penalty term 7\n",
    "j_slack_lb = 0\n",
    "j_slack_ub = 1\n"
   ]
  },
  {
   "attachments": {},
   "cell_type": "markdown",
   "id": "84c9f782",
   "metadata": {},
   "source": [
    "# Load JSP instance from file"
   ]
  },
  {
   "cell_type": "code",
   "execution_count": 5,
   "id": "7e27cfef",
   "metadata": {},
   "outputs": [
    {
     "data": {
      "text/plain": [
       "[[(1, 1), (0, 1)], [(0, 1), (1, 1)]]"
      ]
     },
     "execution_count": 5,
     "metadata": {},
     "output_type": "execute_result"
    }
   ],
   "source": [
    "# job_dict = readInstance('./data/ft03.txt')\n",
    "job_dict = read_instance(jsp_filepath)\n",
    "\n",
    "job_dict"
   ]
  },
  {
   "attachments": {},
   "cell_type": "markdown",
   "id": "30030838",
   "metadata": {},
   "source": [
    "# Create our JSP object"
   ]
  },
  {
   "cell_type": "code",
   "execution_count": 6,
   "id": "6774de85",
   "metadata": {},
   "outputs": [
    {
     "data": {
      "text/plain": [
       "(jId:0, ops:([(m:1, d:1, oId:0), (m:0, d:1, oId:1)])\n",
       "(jId:1, ops:([(m:0, d:1, oId:0), (m:1, d:1, oId:1)])"
      ]
     },
     "execution_count": 6,
     "metadata": {},
     "output_type": "execute_result"
    }
   ],
   "source": [
    "jsp = JSP(job_dict)\n",
    "jsp"
   ]
  },
  {
   "attachments": {},
   "cell_type": "markdown",
   "id": "042a0f93",
   "metadata": {},
   "source": [
    "# Define the quadratic programm which describes the JSP"
   ]
  },
  {
   "attachments": {},
   "cell_type": "markdown",
   "id": "263d85e5",
   "metadata": {},
   "source": [
    "#### Create all variables"
   ]
  },
  {
   "cell_type": "code",
   "execution_count": 7,
   "id": "6a1c72bc-1a66-4666-87ff-5be34215e474",
   "metadata": {},
   "outputs": [],
   "source": [
    "from docplex.mp.model import Model\n",
    "\n",
    "all_var_names = []\n",
    "\n",
    "binary_var_names = []\n",
    "\n",
    "mdl = Model('jssp time indexed qubo model')\n",
    "i_var_c_max = mdl.integer_var(lb=c_max_lb, ub=c_max_ub, name='i_var_c_max')\n",
    "all_var_names.append(i_var_c_max)\n",
    "\n",
    "# We remove all absurd times for an operation. \n",
    "# The earliest start time of an operation is definetly \n",
    "# not earlier than the duration of the earlier operation of a specific job.\n",
    "# \n",
    "# The latest start time of an operation is definetly not later than the predictied\n",
    "# makespan Cmax minus the completion time of all later operations of a specific job.\n",
    "\n",
    "length_of_operations_before = 0 # we keep track of the duration sum of the earlier operations of a job. \n",
    "for j in range(len(jsp.jobs)):\n",
    "    for o in range(len(jsp.jobs[j].operations)):\n",
    "        # calculate the sum of the duration of all operations \n",
    "        # in this job which have to be processed after this operation. \n",
    "        latest_start = horizon\n",
    "        try:\n",
    "            later_operations = jsp.jobs[j].operations[o+1:]\n",
    "            duration_later_operations = sum( [op.duration for op in later_operations] )\n",
    "\n",
    "            latest_start = horizon - duration_later_operations\n",
    "        except IndexError:\n",
    "            _ = 0\n",
    "        \n",
    "\n",
    "        # we only create start times which are not absurd here..\n",
    "        for t in range(length_of_operations_before, latest_start): \n",
    "            v = mdl.binary_var(name=f\"b_var_j{j}o{o}t{t}\")\n",
    "            all_var_names.append(v)\n",
    "            binary_var_names.append(v)\n",
    "            \n",
    "        duration = jsp.jobs[j].operations[o].duration # increse the counter\n",
    "        length_of_operations_before += duration\n",
    "    \n",
    "    length_of_operations_before = 0 # reset to 0 for the next job.\n",
    "\n",
    "\n",
    "for j in range(len(jsp.jobs)):\n",
    "    v = mdl.integer_var(lb=j_slack_lb, ub=j_slack_ub, name=f\"i_var_slack_j{j}\")\n",
    "    all_var_names.append(v)\n"
   ]
  },
  {
   "cell_type": "code",
   "execution_count": 8,
   "id": "ad58ec73-a22f-4f14-887f-9a99c8ea8753",
   "metadata": {},
   "outputs": [
    {
     "data": {
      "text/plain": [
       "[docplex.mp.Var(type=I,name='i_var_c_max',ub=2),\n",
       " docplex.mp.Var(type=B,name='b_var_j0o0t0'),\n",
       " docplex.mp.Var(type=B,name='b_var_j0o1t1'),\n",
       " docplex.mp.Var(type=B,name='b_var_j1o0t0'),\n",
       " docplex.mp.Var(type=B,name='b_var_j1o1t1'),\n",
       " docplex.mp.Var(type=I,name='i_var_slack_j0',ub=1),\n",
       " docplex.mp.Var(type=I,name='i_var_slack_j1',ub=1)]"
      ]
     },
     "execution_count": 8,
     "metadata": {},
     "output_type": "execute_result"
    }
   ],
   "source": [
    "all_var_names"
   ]
  },
  {
   "attachments": {},
   "cell_type": "markdown",
   "id": "76c34d39",
   "metadata": {},
   "source": [
    "-----\n",
    "#### Define penalty terms as described in the time indexed qubo"
   ]
  },
  {
   "cell_type": "code",
   "execution_count": 9,
   "id": "5877ab13",
   "metadata": {},
   "outputs": [
    {
     "data": {
      "text/plain": [
       "docplex.mp.quad.QuadExpr(b_var_j0o0t0^2+b_var_j0o1t1^2+b_var_j1o0t0^2+b_var_j1o1t1^2-2b_var_j0o0t0-2b_var_j0o1t1-2b_var_j1o0t0-2b_var_j1o1t1+4)"
      ]
     },
     "execution_count": 9,
     "metadata": {},
     "output_type": "execute_result"
    }
   ],
   "source": [
    "term_4 = []\n",
    "\n",
    "# p4 term - every operation only starts once!\n",
    "for j in range(len(jsp.jobs)):\n",
    "    for o in range(len(jsp.jobs[j].operations)):\n",
    "        vars_of_current_operation = [(x - 1) for x in all_var_names if f\"b_var_j{j}o{o}\" in x.name]\n",
    "        s = mdl.sum(vars_of_current_operation)**2\n",
    "        term_4.append(s)\n",
    "\n",
    "term_4 = mdl.sum(term_4)\n",
    "\n",
    "term_4"
   ]
  },
  {
   "cell_type": "code",
   "execution_count": 10,
   "id": "38d60908",
   "metadata": {},
   "outputs": [
    {
     "data": {
      "text/plain": [
       "docplex.mp.ZeroExpr()"
      ]
     },
     "execution_count": 10,
     "metadata": {},
     "output_type": "execute_result"
    }
   ],
   "source": [
    "term_5 = []\n",
    "\n",
    "#p5 term - precedence constraint - operations have to follow the right order\n",
    "\n",
    "for j in range(len(jsp.jobs)):\n",
    "    for o in range(len(jsp.jobs[j].operations)):\n",
    "\n",
    "        # Stop before the last operation of this Job because the last operation has no next operation...\n",
    "        if o+1 < len(jsp.jobs[j].operations) :\n",
    "\n",
    "            o_this = jsp.jobs[j].operations[o] # current operation we look at\n",
    "            o_next = jsp.jobs[j].operations[o+1] # next operation if any..\n",
    "            d = o_this.duration\n",
    "\n",
    "            for t1 in range(horizon):\n",
    "                for t2 in range(horizon):\n",
    "                    if (t1 + d) > t2:\n",
    "                        try:\n",
    "                            var1 = [x for x in all_var_names if f\"b_var_j{j}o{o_this.id}t{t1}\" in x.name][0]\n",
    "                            # print(var1)\n",
    "                            var2 = [x for x in all_var_names if f\"b_var_j{j}o{o_next.id}t{t2}\" in x.name][0]\n",
    "                            # print(var2)\n",
    "\n",
    "                            term_5.append(var1 * var2)\n",
    "                        except IndexError:\n",
    "                            # a variable could not be found because we removed it (absurd start times..)\n",
    "                            # this is no problem..\n",
    "                            _ = 1\n",
    "                        \n",
    "\n",
    "term_5 = mdl.sum(term_5)\n",
    "\n",
    "term_5\n"
   ]
  },
  {
   "cell_type": "code",
   "execution_count": 11,
   "id": "042ec0a8-3397-467f-9fdc-876d6d81a05e",
   "metadata": {},
   "outputs": [
    {
     "data": {
      "text/plain": [
       "docplex.mp.ZeroExpr()"
      ]
     },
     "execution_count": 11,
     "metadata": {},
     "output_type": "execute_result"
    }
   ],
   "source": [
    "\n",
    "term_6 = []\n",
    "\n",
    "#p6 term - resource constraint - only one operation at a machine at a time..\n",
    "\n",
    "# gather all operations which run on the same machine..\n",
    "ops_of_machines = []\n",
    "\n",
    "for m in range(jsp.get_number_of_machines()):\n",
    "    ops_of_machines.append([])\n",
    "\n",
    "for j in range(len(jsp.jobs)):\n",
    "    for o in range(len(jsp.jobs[j].operations)):\n",
    "        op = jsp.jobs[j].operations[o]\n",
    "        ops_of_machines[op.machine].append(op)\n",
    "\n",
    "# combination of all operations which run on the same machine...\n",
    "combis = []\n",
    "for m in range(len(ops_of_machines)):\n",
    "    for o1 in ops_of_machines[m]:\n",
    "        for o2 in ops_of_machines[m]:\n",
    "            # check that o1 and o2 are not the same!\n",
    "            if o1 is not o2:\n",
    "                # don't append if combination is already appended in the other order..\n",
    "                if (o2, o1) not in combis:\n",
    "                    combis.append((o1, o2))\n",
    "\n",
    "\n",
    "for c in combis:\n",
    "    o1 = c[0]\n",
    "    o2 = c[1]\n",
    "    for t1 in range(horizon):\n",
    "        for t2 in range(horizon):\n",
    "            if t1 <= t2 and t2 < t1 + o1.duration:\n",
    "\n",
    "                try:    \n",
    "                    var1 = [x for x in all_var_names if f\"b_var_j{o1.parent_job_id}o{o1.id}t{t1}\" in x.name][0]\n",
    "                    var2 = [x for x in all_var_names if f\"b_var_j{o2.parent_job_id}o{o2.id}t{t2}\" in x.name][0]\n",
    "                    term_6.append(var1 * var2)\n",
    "                except IndexError:\n",
    "                    # a variable could not be found because we removed it (absurd start times..)\n",
    "                    # this is ok\n",
    "                    _ = 1   \n",
    "\n",
    "\n",
    "term_6 = mdl.sum(term_6)\n",
    "\n",
    "term_6"
   ]
  },
  {
   "cell_type": "code",
   "execution_count": 12,
   "id": "e8391346",
   "metadata": {},
   "outputs": [
    {
     "data": {
      "text/plain": [
       "[docplex.mp.Var(type=I,name='i_var_c_max',ub=2),\n",
       " docplex.mp.Var(type=B,name='b_var_j0o0t0'),\n",
       " docplex.mp.Var(type=B,name='b_var_j0o1t1'),\n",
       " docplex.mp.Var(type=B,name='b_var_j1o0t0'),\n",
       " docplex.mp.Var(type=B,name='b_var_j1o1t1'),\n",
       " docplex.mp.Var(type=I,name='i_var_slack_j0',ub=1),\n",
       " docplex.mp.Var(type=I,name='i_var_slack_j1',ub=1)]"
      ]
     },
     "execution_count": 12,
     "metadata": {},
     "output_type": "execute_result"
    }
   ],
   "source": [
    "all_var_names"
   ]
  },
  {
   "cell_type": "code",
   "execution_count": 13,
   "id": "1ba55c2c",
   "metadata": {},
   "outputs": [
    {
     "data": {
      "text/plain": [
       "[((m:0, d:1, oId:1), (m:0, d:1, oId:0)),\n",
       " ((m:1, d:1, oId:0), (m:1, d:1, oId:1))]"
      ]
     },
     "execution_count": 13,
     "metadata": {},
     "output_type": "execute_result"
    }
   ],
   "source": [
    "combis"
   ]
  },
  {
   "cell_type": "code",
   "execution_count": 14,
   "id": "6685be03",
   "metadata": {},
   "outputs": [
    {
     "data": {
      "text/plain": [
       "[[(m:0, d:1, oId:1), (m:0, d:1, oId:0)],\n",
       " [(m:1, d:1, oId:0), (m:1, d:1, oId:1)]]"
      ]
     },
     "execution_count": 14,
     "metadata": {},
     "output_type": "execute_result"
    }
   ],
   "source": [
    "ops_of_machines"
   ]
  },
  {
   "cell_type": "code",
   "execution_count": 15,
   "id": "15553739-7000-4b23-97da-6e86ef56a755",
   "metadata": {},
   "outputs": [
    {
     "data": {
      "text/plain": [
       "docplex.mp.quad.QuadExpr(2i_var_c_max^2-2i_var_c_max*b_var_j0o1t1-2i_var_c_max*b_var_j1o1t1-2i_var_c_max*i_var_slack_j0-2i_var_c_max*i_var_slack_j1+b_var_j0o1t1^2+2b_var_j0o1t1*i_var_slack_j0+b_var_j1o1t1^2+2b_var_j1o1t1*i_var_slack_j1+i_var_slack_j0^2+i_var_slack_j1^2+-4i_var_c_max+2b_var_j0o1t1+2b_var_j1o1t1+2i_var_slack_j0+2i_var_slack_j1+2)"
      ]
     },
     "execution_count": 15,
     "metadata": {},
     "output_type": "execute_result"
    }
   ],
   "source": [
    "term_7 = []\n",
    "\n",
    "#p7 term - no job exceeds makespan!\n",
    "\n",
    "for j in range(len(jsp.jobs)):\n",
    "    ts = []\n",
    "    o_last =  len(jsp.jobs[j].operations) - 1 \n",
    "    d_last_op = jsp.jobs[j].operations[o_last].duration\n",
    "    for t in range(horizon):\n",
    "        \n",
    "        try:    \n",
    "            x_last_op_t = [x for x in all_var_names if f\"b_var_j{j}o{o_last}t{t}\" in x.name][0]\n",
    "            ts.append( t * x_last_op_t )\n",
    "        except IndexError:\n",
    "            # a variable could not be found because we removed it (absurd start times..)\n",
    "            # this is ok..\n",
    "            _ = 1   \n",
    "            \n",
    "    slack_var_for_this_job = [x for x in all_var_names if f\"i_var_slack_j{j}\" in x.name][0]\n",
    "    term_7.append( (mdl.sum(ts) + d_last_op + slack_var_for_this_job - i_var_c_max)**2 )\n",
    "\n",
    "term_7 = mdl.sum(term_7)\n",
    "\n",
    "term_7\n"
   ]
  },
  {
   "attachments": {},
   "cell_type": "markdown",
   "id": "d7ea73e9",
   "metadata": {},
   "source": [
    "### Define the objective function "
   ]
  },
  {
   "attachments": {},
   "cell_type": "markdown",
   "id": "173dd39d",
   "metadata": {},
   "source": [
    "#### As described in the time indexed QUBO"
   ]
  },
  {
   "cell_type": "code",
   "execution_count": 16,
   "id": "7491476a",
   "metadata": {},
   "outputs": [],
   "source": [
    "# Objective function as described in the time indexed qubo\n",
    "mdl.minimize(i_var_c_max + p4 * term_4 + p5 * term_5 + p6 * term_6 + p7 * term_7)"
   ]
  },
  {
   "attachments": {},
   "cell_type": "markdown",
   "id": "c5ba17e5",
   "metadata": {},
   "source": [
    "#### Alternative formulation - replacing p4 with linear equality constraints"
   ]
  },
  {
   "cell_type": "code",
   "execution_count": 17,
   "id": "6b858b11",
   "metadata": {},
   "outputs": [],
   "source": [
    "# '''\n",
    "# Alternative QUBO formulation  \n",
    "# We replace the p4-term with linear equality constraints to see if this performs better.\n",
    "# Every operation has to start exactly once in this formulation. \n",
    "# Constraint will be converted later into a penalty term using the LinearEqualityToPenalty-Converter.\n",
    "# '''\n",
    "# for j in range(len(jsp.jobs)):\n",
    "#     for o in range(len(jsp.jobs[j].operations)):\n",
    "#         # find all start variables of the current operation\n",
    "#         vars_of_current_operation = [x for x in all_var_names if f\"b_var_j{j}o{o}\" in x.name]\n",
    "\n",
    "#         # Our equality constraint that makes sure ever operation starts exactly once!\n",
    "#         mdl.add_constraint(mdl.sum(vars_of_current_operation) == 1)\n",
    "\n",
    "# # objective funtion without penalty term 4 (was replaced by linear equality constraints above)  \n",
    "# mdl.minimize(i_var_c_max + p5 * term_5 + p6 * term_6 + p7 * term_7)"
   ]
  },
  {
   "cell_type": "code",
   "execution_count": 18,
   "id": "6368629d",
   "metadata": {},
   "outputs": [
    {
     "data": {
      "text/plain": [
       "docplex.mp.Model['jssp time indexed qubo model']"
      ]
     },
     "execution_count": 18,
     "metadata": {},
     "output_type": "execute_result"
    }
   ],
   "source": [
    "mdl"
   ]
  },
  {
   "cell_type": "code",
   "execution_count": 19,
   "id": "da3a80c8",
   "metadata": {},
   "outputs": [
    {
     "name": "stdout",
     "output_type": "stream",
     "text": [
      "// This file has been generated by DOcplex\n",
      "// model name is: jssp time indexed qubo model\n",
      "// single vars section\n",
      "dvar int i_var_c_max;\n",
      "dvar bool b_var_j0o0t0;\n",
      "dvar bool b_var_j0o1t1;\n",
      "dvar bool b_var_j1o0t0;\n",
      "dvar bool b_var_j1o1t1;\n",
      "dvar int i_var_slack_j0;\n",
      "dvar int i_var_slack_j1;\n",
      "\n",
      "minimize\n",
      " - 3 i_var_c_max - 2 b_var_j0o0t0 - 2 b_var_j1o0t0 + 2 i_var_slack_j0\n",
      " + 2 i_var_slack_j1 [ 2 i_var_c_max^2 - 2 i_var_c_max*b_var_j0o1t1\n",
      " - 2 i_var_c_max*b_var_j1o1t1 - 2 i_var_c_max*i_var_slack_j0\n",
      " - 2 i_var_c_max*i_var_slack_j1 + b_var_j0o0t0^2 + 2 b_var_j0o1t1^2\n",
      " + 2 b_var_j0o1t1*i_var_slack_j0 + b_var_j1o0t0^2 + 2 b_var_j1o1t1^2\n",
      " + 2 b_var_j1o1t1*i_var_slack_j1 + i_var_slack_j0^2 + i_var_slack_j1^2 ] + 6;\n",
      " \n",
      "subject to {\n",
      "\n",
      "}\n"
     ]
    }
   ],
   "source": [
    "mdl.prettyprint()"
   ]
  },
  {
   "attachments": {},
   "cell_type": "markdown",
   "id": "39cb28b8",
   "metadata": {},
   "source": [
    "-----\n",
    "## Convert the mathematical model into a QUBO"
   ]
  },
  {
   "cell_type": "code",
   "execution_count": 20,
   "id": "80ce8dee",
   "metadata": {},
   "outputs": [],
   "source": [
    "### CREATE QUBO \n",
    "\n",
    "from qiskit_optimization import QuadraticProgram\n",
    "from qiskit_optimization.translators import from_docplex_mp\n",
    "from qiskit_optimization.converters import LinearEqualityToPenalty, IntegerToBinary\n",
    "\n",
    "# Create the QUBO from our docplex-model ...\n",
    "qp = from_docplex_mp(mdl) # create a qiskit_optimization.QuadraticProgramm from this docplex.mp.model\n",
    "\n",
    "# Convert QP into QUBO. Only binary variables and no constraints allowed.\n",
    "lin_eq_converter = LinearEqualityToPenalty(p4)\n",
    "int_to_bin_converter = IntegerToBinary()\n",
    "\n",
    "# Turn linear equality constraints into penalty terms. only necessary if we replaced a penalty term with linear equality constraints.\n",
    "qp = lin_eq_converter.convert(qp) \n",
    "\n",
    "# Turn integers into binary vars.\n",
    "qubo = int_to_bin_converter.convert(qp) \n"
   ]
  },
  {
   "cell_type": "code",
   "execution_count": 21,
   "id": "0a1f1f5e",
   "metadata": {},
   "outputs": [
    {
     "data": {
      "text/plain": [
       "'Problem name: jssp time indexed qubo model\\n\\nMinimize\\n  b_var_j0o0t0^2 + 2*b_var_j0o1t1^2 + 2*b_var_j0o1t1*i_var_slack_j0@0\\n  + b_var_j1o0t0^2 + 2*b_var_j1o1t1^2 + 2*b_var_j1o1t1*i_var_slack_j1@0\\n  - 2*i_var_c_max@0*b_var_j0o1t1 - 2*i_var_c_max@0*b_var_j1o1t1\\n  + 2*i_var_c_max@0^2 + 4*i_var_c_max@0*i_var_c_max@1\\n  - 2*i_var_c_max@0*i_var_slack_j0@0 - 2*i_var_c_max@0*i_var_slack_j1@0\\n  - 2*i_var_c_max@1*b_var_j0o1t1 - 2*i_var_c_max@1*b_var_j1o1t1\\n  + 2*i_var_c_max@1^2 - 2*i_var_c_max@1*i_var_slack_j0@0\\n  - 2*i_var_c_max@1*i_var_slack_j1@0 + i_var_slack_j0@0^2 + i_var_slack_j1@0^2\\n  - 2*b_var_j0o0t0 - 2*b_var_j1o0t0 - 3*i_var_c_max@0 - 3*i_var_c_max@1\\n  + 2*i_var_slack_j0@0 + 2*i_var_slack_j1@0 + 6\\n\\nSubject to\\n  No constraints\\n\\n  Binary variables (8)\\n    i_var_c_max@0 i_var_c_max@1 b_var_j0o0t0 b_var_j0o1t1 b_var_j1o0t0\\n    b_var_j1o1t1 i_var_slack_j0@0 i_var_slack_j1@0\\n'"
      ]
     },
     "execution_count": 21,
     "metadata": {},
     "output_type": "execute_result"
    }
   ],
   "source": [
    "qubo.prettyprint()"
   ]
  },
  {
   "cell_type": "code",
   "execution_count": 22,
   "id": "bc3b061c",
   "metadata": {},
   "outputs": [
    {
     "data": {
      "text/plain": [
       "<QuadraticProgram: minimize b_var_j0o0t0^2 + 2*b_var_j0o1t1^2 + 2*b_var_j0o1t1..., 8 variables, 0 constraints, 'jssp time indexed qubo model'>"
      ]
     },
     "execution_count": 22,
     "metadata": {},
     "output_type": "execute_result"
    }
   ],
   "source": [
    "qubo"
   ]
  },
  {
   "attachments": {},
   "cell_type": "markdown",
   "id": "160a4e30",
   "metadata": {},
   "source": [
    "-----\n",
    "# Solve the QUBO using a classical CPLEX-Solver"
   ]
  },
  {
   "cell_type": "code",
   "execution_count": 23,
   "id": "bc122089",
   "metadata": {},
   "outputs": [],
   "source": [
    "### SOLVE THE QUBO USING CPLEX\n",
    "\n",
    "from qiskit_optimization.algorithms import CplexOptimizer\n",
    "\n",
    "cplex_optimizer = CplexOptimizer()\n",
    "\n",
    "cplex_result = cplex_optimizer.solve(qubo)"
   ]
  },
  {
   "cell_type": "code",
   "execution_count": 24,
   "id": "f75fdff0",
   "metadata": {},
   "outputs": [
    {
     "name": "stdout",
     "output_type": "stream",
     "text": [
      "CPLEX solution and function value:\n",
      "minimum point = [1. 1. 1. 1. 1. 1. 0. 0.]\n",
      "minimum value fval = 2.0\n"
     ]
    }
   ],
   "source": [
    "print(f\"CPLEX solution and function value:\")\n",
    "print(f\"minimum point = {cplex_result.x}\")\n",
    "print(f\"minimum value fval = {cplex_result.fval}\")"
   ]
  },
  {
   "cell_type": "code",
   "execution_count": 25,
   "id": "4f16bfb6",
   "metadata": {},
   "outputs": [
    {
     "name": "stdout",
     "output_type": "stream",
     "text": [
      "CPLEX solution with variable names:\n",
      "{'i_var_c_max@0': 1.0, 'i_var_c_max@1': 1.0, 'b_var_j0o0t0': 1.0, 'b_var_j0o1t1': 1.0, 'b_var_j1o0t0': 1.0, 'b_var_j1o1t1': 1.0, 'i_var_slack_j0@0': 0.0, 'i_var_slack_j1@0': 0.0}\n"
     ]
    }
   ],
   "source": [
    "print(\"CPLEX solution with variable names:\")\n",
    "print(f\"{cplex_result.variables_dict}\")"
   ]
  },
  {
   "cell_type": "code",
   "execution_count": 26,
   "id": "5398ba7b",
   "metadata": {},
   "outputs": [],
   "source": [
    "cplex_solution_schedule, cplex_makespan = create_solution_schedule_from_binary_vars(jsp, cplex_result.variables_dict)"
   ]
  },
  {
   "cell_type": "code",
   "execution_count": 27,
   "id": "847845c9",
   "metadata": {},
   "outputs": [
    {
     "name": "stdout",
     "output_type": "stream",
     "text": [
      "CPLEX solution schedule\n",
      "[[[0], [1]], [[0], [1]]]\n"
     ]
    }
   ],
   "source": [
    "print(\"CPLEX solution schedule\")\n",
    "print(cplex_solution_schedule)"
   ]
  },
  {
   "cell_type": "code",
   "execution_count": 28,
   "id": "982574a0",
   "metadata": {},
   "outputs": [
    {
     "name": "stdout",
     "output_type": "stream",
     "text": [
      "CPLEX makespan of the solution schedule\n",
      "2\n"
     ]
    }
   ],
   "source": [
    "print(\"CPLEX makespan of the solution schedule\")\n",
    "print(cplex_makespan)\n"
   ]
  },
  {
   "cell_type": "code",
   "execution_count": 29,
   "id": "65d799f2",
   "metadata": {},
   "outputs": [
    {
     "data": {
      "application/vnd.plotly.v1+json": {
       "config": {
        "plotlyServerURL": "https://plot.ly"
       },
       "data": [
        {
         "alignmentgroup": "True",
         "base": [
          "1971-01-01",
          "1971-01-02"
         ],
         "customdata": [
          [
           "operation-0"
          ],
          [
           "operation-1"
          ]
         ],
         "hovertemplate": "Job=job-0<br>Start=%{base}<br>Finish=%{x}<br>Machine=%{y}<br>Operation=%{customdata[0]}<extra></extra>",
         "legendgroup": "job-0",
         "marker": {
          "color": "#636efa",
          "line": {
           "color": "black",
           "width": 3
          }
         },
         "name": "job-0",
         "offsetgroup": "job-0",
         "opacity": 0.5,
         "orientation": "h",
         "showlegend": true,
         "textposition": "auto",
         "type": "bar",
         "x": [
          86400000,
          86400000
         ],
         "xaxis": "x",
         "y": [
          1,
          0
         ],
         "yaxis": "y"
        },
        {
         "alignmentgroup": "True",
         "base": [
          "1971-01-01",
          "1971-01-02"
         ],
         "customdata": [
          [
           "operation-0"
          ],
          [
           "operation-1"
          ]
         ],
         "hovertemplate": "Job=job-1<br>Start=%{base}<br>Finish=%{x}<br>Machine=%{y}<br>Operation=%{customdata[0]}<extra></extra>",
         "legendgroup": "job-1",
         "marker": {
          "color": "#EF553B",
          "line": {
           "color": "black",
           "width": 3
          }
         },
         "name": "job-1",
         "offsetgroup": "job-1",
         "opacity": 0.5,
         "orientation": "h",
         "showlegend": true,
         "textposition": "auto",
         "type": "bar",
         "x": [
          86400000,
          86400000
         ],
         "xaxis": "x",
         "y": [
          0,
          1
         ],
         "yaxis": "y"
        }
       ],
       "layout": {
        "barmode": "overlay",
        "legend": {
         "title": {
          "text": "Job"
         },
         "tracegroupgap": 0
        },
        "template": {
         "data": {
          "bar": [
           {
            "error_x": {
             "color": "#2a3f5f"
            },
            "error_y": {
             "color": "#2a3f5f"
            },
            "marker": {
             "line": {
              "color": "#E5ECF6",
              "width": 0.5
             },
             "pattern": {
              "fillmode": "overlay",
              "size": 10,
              "solidity": 0.2
             }
            },
            "type": "bar"
           }
          ],
          "barpolar": [
           {
            "marker": {
             "line": {
              "color": "#E5ECF6",
              "width": 0.5
             },
             "pattern": {
              "fillmode": "overlay",
              "size": 10,
              "solidity": 0.2
             }
            },
            "type": "barpolar"
           }
          ],
          "carpet": [
           {
            "aaxis": {
             "endlinecolor": "#2a3f5f",
             "gridcolor": "white",
             "linecolor": "white",
             "minorgridcolor": "white",
             "startlinecolor": "#2a3f5f"
            },
            "baxis": {
             "endlinecolor": "#2a3f5f",
             "gridcolor": "white",
             "linecolor": "white",
             "minorgridcolor": "white",
             "startlinecolor": "#2a3f5f"
            },
            "type": "carpet"
           }
          ],
          "choropleth": [
           {
            "colorbar": {
             "outlinewidth": 0,
             "ticks": ""
            },
            "type": "choropleth"
           }
          ],
          "contour": [
           {
            "colorbar": {
             "outlinewidth": 0,
             "ticks": ""
            },
            "colorscale": [
             [
              0,
              "#0d0887"
             ],
             [
              0.1111111111111111,
              "#46039f"
             ],
             [
              0.2222222222222222,
              "#7201a8"
             ],
             [
              0.3333333333333333,
              "#9c179e"
             ],
             [
              0.4444444444444444,
              "#bd3786"
             ],
             [
              0.5555555555555556,
              "#d8576b"
             ],
             [
              0.6666666666666666,
              "#ed7953"
             ],
             [
              0.7777777777777778,
              "#fb9f3a"
             ],
             [
              0.8888888888888888,
              "#fdca26"
             ],
             [
              1,
              "#f0f921"
             ]
            ],
            "type": "contour"
           }
          ],
          "contourcarpet": [
           {
            "colorbar": {
             "outlinewidth": 0,
             "ticks": ""
            },
            "type": "contourcarpet"
           }
          ],
          "heatmap": [
           {
            "colorbar": {
             "outlinewidth": 0,
             "ticks": ""
            },
            "colorscale": [
             [
              0,
              "#0d0887"
             ],
             [
              0.1111111111111111,
              "#46039f"
             ],
             [
              0.2222222222222222,
              "#7201a8"
             ],
             [
              0.3333333333333333,
              "#9c179e"
             ],
             [
              0.4444444444444444,
              "#bd3786"
             ],
             [
              0.5555555555555556,
              "#d8576b"
             ],
             [
              0.6666666666666666,
              "#ed7953"
             ],
             [
              0.7777777777777778,
              "#fb9f3a"
             ],
             [
              0.8888888888888888,
              "#fdca26"
             ],
             [
              1,
              "#f0f921"
             ]
            ],
            "type": "heatmap"
           }
          ],
          "heatmapgl": [
           {
            "colorbar": {
             "outlinewidth": 0,
             "ticks": ""
            },
            "colorscale": [
             [
              0,
              "#0d0887"
             ],
             [
              0.1111111111111111,
              "#46039f"
             ],
             [
              0.2222222222222222,
              "#7201a8"
             ],
             [
              0.3333333333333333,
              "#9c179e"
             ],
             [
              0.4444444444444444,
              "#bd3786"
             ],
             [
              0.5555555555555556,
              "#d8576b"
             ],
             [
              0.6666666666666666,
              "#ed7953"
             ],
             [
              0.7777777777777778,
              "#fb9f3a"
             ],
             [
              0.8888888888888888,
              "#fdca26"
             ],
             [
              1,
              "#f0f921"
             ]
            ],
            "type": "heatmapgl"
           }
          ],
          "histogram": [
           {
            "marker": {
             "pattern": {
              "fillmode": "overlay",
              "size": 10,
              "solidity": 0.2
             }
            },
            "type": "histogram"
           }
          ],
          "histogram2d": [
           {
            "colorbar": {
             "outlinewidth": 0,
             "ticks": ""
            },
            "colorscale": [
             [
              0,
              "#0d0887"
             ],
             [
              0.1111111111111111,
              "#46039f"
             ],
             [
              0.2222222222222222,
              "#7201a8"
             ],
             [
              0.3333333333333333,
              "#9c179e"
             ],
             [
              0.4444444444444444,
              "#bd3786"
             ],
             [
              0.5555555555555556,
              "#d8576b"
             ],
             [
              0.6666666666666666,
              "#ed7953"
             ],
             [
              0.7777777777777778,
              "#fb9f3a"
             ],
             [
              0.8888888888888888,
              "#fdca26"
             ],
             [
              1,
              "#f0f921"
             ]
            ],
            "type": "histogram2d"
           }
          ],
          "histogram2dcontour": [
           {
            "colorbar": {
             "outlinewidth": 0,
             "ticks": ""
            },
            "colorscale": [
             [
              0,
              "#0d0887"
             ],
             [
              0.1111111111111111,
              "#46039f"
             ],
             [
              0.2222222222222222,
              "#7201a8"
             ],
             [
              0.3333333333333333,
              "#9c179e"
             ],
             [
              0.4444444444444444,
              "#bd3786"
             ],
             [
              0.5555555555555556,
              "#d8576b"
             ],
             [
              0.6666666666666666,
              "#ed7953"
             ],
             [
              0.7777777777777778,
              "#fb9f3a"
             ],
             [
              0.8888888888888888,
              "#fdca26"
             ],
             [
              1,
              "#f0f921"
             ]
            ],
            "type": "histogram2dcontour"
           }
          ],
          "mesh3d": [
           {
            "colorbar": {
             "outlinewidth": 0,
             "ticks": ""
            },
            "type": "mesh3d"
           }
          ],
          "parcoords": [
           {
            "line": {
             "colorbar": {
              "outlinewidth": 0,
              "ticks": ""
             }
            },
            "type": "parcoords"
           }
          ],
          "pie": [
           {
            "automargin": true,
            "type": "pie"
           }
          ],
          "scatter": [
           {
            "fillpattern": {
             "fillmode": "overlay",
             "size": 10,
             "solidity": 0.2
            },
            "type": "scatter"
           }
          ],
          "scatter3d": [
           {
            "line": {
             "colorbar": {
              "outlinewidth": 0,
              "ticks": ""
             }
            },
            "marker": {
             "colorbar": {
              "outlinewidth": 0,
              "ticks": ""
             }
            },
            "type": "scatter3d"
           }
          ],
          "scattercarpet": [
           {
            "marker": {
             "colorbar": {
              "outlinewidth": 0,
              "ticks": ""
             }
            },
            "type": "scattercarpet"
           }
          ],
          "scattergeo": [
           {
            "marker": {
             "colorbar": {
              "outlinewidth": 0,
              "ticks": ""
             }
            },
            "type": "scattergeo"
           }
          ],
          "scattergl": [
           {
            "marker": {
             "colorbar": {
              "outlinewidth": 0,
              "ticks": ""
             }
            },
            "type": "scattergl"
           }
          ],
          "scattermapbox": [
           {
            "marker": {
             "colorbar": {
              "outlinewidth": 0,
              "ticks": ""
             }
            },
            "type": "scattermapbox"
           }
          ],
          "scatterpolar": [
           {
            "marker": {
             "colorbar": {
              "outlinewidth": 0,
              "ticks": ""
             }
            },
            "type": "scatterpolar"
           }
          ],
          "scatterpolargl": [
           {
            "marker": {
             "colorbar": {
              "outlinewidth": 0,
              "ticks": ""
             }
            },
            "type": "scatterpolargl"
           }
          ],
          "scatterternary": [
           {
            "marker": {
             "colorbar": {
              "outlinewidth": 0,
              "ticks": ""
             }
            },
            "type": "scatterternary"
           }
          ],
          "surface": [
           {
            "colorbar": {
             "outlinewidth": 0,
             "ticks": ""
            },
            "colorscale": [
             [
              0,
              "#0d0887"
             ],
             [
              0.1111111111111111,
              "#46039f"
             ],
             [
              0.2222222222222222,
              "#7201a8"
             ],
             [
              0.3333333333333333,
              "#9c179e"
             ],
             [
              0.4444444444444444,
              "#bd3786"
             ],
             [
              0.5555555555555556,
              "#d8576b"
             ],
             [
              0.6666666666666666,
              "#ed7953"
             ],
             [
              0.7777777777777778,
              "#fb9f3a"
             ],
             [
              0.8888888888888888,
              "#fdca26"
             ],
             [
              1,
              "#f0f921"
             ]
            ],
            "type": "surface"
           }
          ],
          "table": [
           {
            "cells": {
             "fill": {
              "color": "#EBF0F8"
             },
             "line": {
              "color": "white"
             }
            },
            "header": {
             "fill": {
              "color": "#C8D4E3"
             },
             "line": {
              "color": "white"
             }
            },
            "type": "table"
           }
          ]
         },
         "layout": {
          "annotationdefaults": {
           "arrowcolor": "#2a3f5f",
           "arrowhead": 0,
           "arrowwidth": 1
          },
          "autotypenumbers": "strict",
          "coloraxis": {
           "colorbar": {
            "outlinewidth": 0,
            "ticks": ""
           }
          },
          "colorscale": {
           "diverging": [
            [
             0,
             "#8e0152"
            ],
            [
             0.1,
             "#c51b7d"
            ],
            [
             0.2,
             "#de77ae"
            ],
            [
             0.3,
             "#f1b6da"
            ],
            [
             0.4,
             "#fde0ef"
            ],
            [
             0.5,
             "#f7f7f7"
            ],
            [
             0.6,
             "#e6f5d0"
            ],
            [
             0.7,
             "#b8e186"
            ],
            [
             0.8,
             "#7fbc41"
            ],
            [
             0.9,
             "#4d9221"
            ],
            [
             1,
             "#276419"
            ]
           ],
           "sequential": [
            [
             0,
             "#0d0887"
            ],
            [
             0.1111111111111111,
             "#46039f"
            ],
            [
             0.2222222222222222,
             "#7201a8"
            ],
            [
             0.3333333333333333,
             "#9c179e"
            ],
            [
             0.4444444444444444,
             "#bd3786"
            ],
            [
             0.5555555555555556,
             "#d8576b"
            ],
            [
             0.6666666666666666,
             "#ed7953"
            ],
            [
             0.7777777777777778,
             "#fb9f3a"
            ],
            [
             0.8888888888888888,
             "#fdca26"
            ],
            [
             1,
             "#f0f921"
            ]
           ],
           "sequentialminus": [
            [
             0,
             "#0d0887"
            ],
            [
             0.1111111111111111,
             "#46039f"
            ],
            [
             0.2222222222222222,
             "#7201a8"
            ],
            [
             0.3333333333333333,
             "#9c179e"
            ],
            [
             0.4444444444444444,
             "#bd3786"
            ],
            [
             0.5555555555555556,
             "#d8576b"
            ],
            [
             0.6666666666666666,
             "#ed7953"
            ],
            [
             0.7777777777777778,
             "#fb9f3a"
            ],
            [
             0.8888888888888888,
             "#fdca26"
            ],
            [
             1,
             "#f0f921"
            ]
           ]
          },
          "colorway": [
           "#636efa",
           "#EF553B",
           "#00cc96",
           "#ab63fa",
           "#FFA15A",
           "#19d3f3",
           "#FF6692",
           "#B6E880",
           "#FF97FF",
           "#FECB52"
          ],
          "font": {
           "color": "#2a3f5f"
          },
          "geo": {
           "bgcolor": "white",
           "lakecolor": "white",
           "landcolor": "#E5ECF6",
           "showlakes": true,
           "showland": true,
           "subunitcolor": "white"
          },
          "hoverlabel": {
           "align": "left"
          },
          "hovermode": "closest",
          "mapbox": {
           "style": "light"
          },
          "paper_bgcolor": "white",
          "plot_bgcolor": "#E5ECF6",
          "polar": {
           "angularaxis": {
            "gridcolor": "white",
            "linecolor": "white",
            "ticks": ""
           },
           "bgcolor": "#E5ECF6",
           "radialaxis": {
            "gridcolor": "white",
            "linecolor": "white",
            "ticks": ""
           }
          },
          "scene": {
           "xaxis": {
            "backgroundcolor": "#E5ECF6",
            "gridcolor": "white",
            "gridwidth": 2,
            "linecolor": "white",
            "showbackground": true,
            "ticks": "",
            "zerolinecolor": "white"
           },
           "yaxis": {
            "backgroundcolor": "#E5ECF6",
            "gridcolor": "white",
            "gridwidth": 2,
            "linecolor": "white",
            "showbackground": true,
            "ticks": "",
            "zerolinecolor": "white"
           },
           "zaxis": {
            "backgroundcolor": "#E5ECF6",
            "gridcolor": "white",
            "gridwidth": 2,
            "linecolor": "white",
            "showbackground": true,
            "ticks": "",
            "zerolinecolor": "white"
           }
          },
          "shapedefaults": {
           "line": {
            "color": "#2a3f5f"
           }
          },
          "ternary": {
           "aaxis": {
            "gridcolor": "white",
            "linecolor": "white",
            "ticks": ""
           },
           "baxis": {
            "gridcolor": "white",
            "linecolor": "white",
            "ticks": ""
           },
           "bgcolor": "#E5ECF6",
           "caxis": {
            "gridcolor": "white",
            "linecolor": "white",
            "ticks": ""
           }
          },
          "title": {
           "x": 0.05
          },
          "xaxis": {
           "automargin": true,
           "gridcolor": "white",
           "linecolor": "white",
           "ticks": "",
           "title": {
            "standoff": 15
           },
           "zerolinecolor": "white",
           "zerolinewidth": 2
          },
          "yaxis": {
           "automargin": true,
           "gridcolor": "white",
           "linecolor": "white",
           "ticks": "",
           "title": {
            "standoff": 15
           },
           "zerolinecolor": "white",
           "zerolinewidth": 2
          }
         }
        },
        "title": {
         "text": "Solution using CPlexSolver()"
        },
        "xaxis": {
         "anchor": "y",
         "domain": [
          0,
          1
         ],
         "range": [
          "1971-01-01",
          "1971-01-04"
         ],
         "ticktext": [
          0,
          1,
          2,
          3
         ],
         "tickvals": [
          "1971-01-01",
          "1971-01-02",
          "1971-01-03",
          "1971-01-04"
         ],
         "type": "date"
        },
        "yaxis": {
         "anchor": "x",
         "autorange": "reversed",
         "domain": [
          0,
          1
         ],
         "title": {
          "text": "Machine"
         }
        }
       }
      }
     },
     "metadata": {},
     "output_type": "display_data"
    }
   ],
   "source": [
    "draw_solution(jsp, solution=cplex_solution_schedule, x_max=cplex_makespan+1, title='Solution using CPlexSolver()')"
   ]
  },
  {
   "attachments": {},
   "cell_type": "markdown",
   "id": "137c2f75",
   "metadata": {},
   "source": [
    "### ✔️ Success! CPLEX solved this instance properly!"
   ]
  },
  {
   "attachments": {},
   "cell_type": "markdown",
   "id": "22c9d9c1",
   "metadata": {},
   "source": [
    "-----\n",
    "# Solve the QUBO using QAOA!"
   ]
  },
  {
   "cell_type": "code",
   "execution_count": 30,
   "id": "937ff6ce",
   "metadata": {},
   "outputs": [
    {
     "name": "stdout",
     "output_type": "stream",
     "text": [
      "No API_TOKEN provided. Using a local qasm_simulator on your machine.\n"
     ]
    }
   ],
   "source": [
    "from qiskit import IBMQ\n",
    "from qiskit import Aer\n",
    "\n",
    "API_TOKEN_DE = '' # <<< Enter your API_TOKEN here\n",
    "API_URL_DE = 'https://auth.de.quantum-computing.ibm.com/api'\n",
    "\n",
    "\n",
    "if API_TOKEN_DE == '' or API_URL_DE == '':\n",
    "    solver_backend = Aer.get_backend('qasm_simulator')\n",
    "    print('No API_TOKEN provided. Using a local qasm_simulator on your machine.')\n",
    "else:\n",
    "    IBMQ.enable_account(API_TOKEN_DE, API_URL_DE)\n",
    "    provider = IBMQ.get_provider(hub='fraunhofer-de', group='fhg-all', project='ticket')\n",
    "    solver_backend = provider.get_backend('ibmq_ehningen')\n",
    "\n",
    "    "
   ]
  },
  {
   "cell_type": "code",
   "execution_count": 31,
   "id": "4c8a36ec",
   "metadata": {},
   "outputs": [
    {
     "data": {
      "text/plain": [
       "QasmSimulator('qasm_simulator')"
      ]
     },
     "execution_count": 31,
     "metadata": {},
     "output_type": "execute_result"
    }
   ],
   "source": [
    "backend = solver_backend\n",
    "backend"
   ]
  },
  {
   "cell_type": "code",
   "execution_count": 32,
   "id": "42b9e423",
   "metadata": {},
   "outputs": [],
   "source": [
    "# QAOA parameters\n",
    "number_of_shots = 100000\n",
    "qaoa_reps = 1\n",
    "\n",
    "# Betas and Gammas as described in the original QAOA paper\n",
    "betas =     [0] \n",
    "gammas =    [0]"
   ]
  },
  {
   "cell_type": "code",
   "execution_count": 33,
   "id": "630f9c0b",
   "metadata": {},
   "outputs": [],
   "source": [
    "from qiskit.utils import algorithm_globals, QuantumInstance\n",
    "from qiskit.algorithms import QAOA, NumPyMinimumEigensolver\n",
    "\n",
    "algorithm_globals.random_seed = 10598\n",
    "\n",
    "from qiskit_optimization.algorithms import (\n",
    "    MinimumEigenOptimizer,\n",
    "    RecursiveMinimumEigenOptimizer,\n",
    "    SolutionSample,\n",
    "    OptimizationResultStatus,\n",
    ")\n",
    "\n",
    "quantum_instance = QuantumInstance(\n",
    "    backend,\n",
    "    seed_simulator=algorithm_globals.random_seed,\n",
    "    seed_transpiler=algorithm_globals.random_seed,\n",
    "    shots=number_of_shots\n",
    ")\n",
    "\n",
    "qaoa_mes = QAOA(quantum_instance=quantum_instance, reps=qaoa_reps, initial_point=[*betas, *gammas])"
   ]
  },
  {
   "cell_type": "code",
   "execution_count": 34,
   "metadata": {},
   "outputs": [],
   "source": [
    "qaoa = MinimumEigenOptimizer(qaoa_mes)  # using QAOA"
   ]
  },
  {
   "cell_type": "code",
   "execution_count": 35,
   "metadata": {},
   "outputs": [],
   "source": [
    "qaoa_result = qaoa.solve(qubo)"
   ]
  },
  {
   "cell_type": "code",
   "execution_count": 36,
   "id": "958c4214",
   "metadata": {},
   "outputs": [
    {
     "name": "stdout",
     "output_type": "stream",
     "text": [
      "QAOA solution and function value:\n",
      "minimum point = [1. 1. 1. 1. 1. 1. 0. 0.]\n",
      "minimum value fval = 2.0\n"
     ]
    }
   ],
   "source": [
    "print(f\"QAOA solution and function value:\")\n",
    "print(f\"minimum point = {qaoa_result.x}\")\n",
    "print(f\"minimum value fval = {qaoa_result.fval}\")"
   ]
  },
  {
   "cell_type": "code",
   "execution_count": 37,
   "id": "58784208",
   "metadata": {},
   "outputs": [
    {
     "name": "stdout",
     "output_type": "stream",
     "text": [
      "QAOA solution with variable names:\n",
      "{'i_var_c_max@0': 1.0, 'i_var_c_max@1': 1.0, 'b_var_j0o0t0': 1.0, 'b_var_j0o1t1': 1.0, 'b_var_j1o0t0': 1.0, 'b_var_j1o1t1': 1.0, 'i_var_slack_j0@0': 0.0, 'i_var_slack_j1@0': 0.0}\n"
     ]
    }
   ],
   "source": [
    "print(\"QAOA solution with variable names:\")\n",
    "print(f\"{qaoa_result.variables_dict}\")"
   ]
  },
  {
   "cell_type": "code",
   "execution_count": 38,
   "id": "711a6afe",
   "metadata": {},
   "outputs": [],
   "source": [
    "qaoa_solution_schedule, qaoa_makespan = create_solution_schedule_from_binary_vars(jsp, qaoa_result.variables_dict)\n"
   ]
  },
  {
   "cell_type": "code",
   "execution_count": 39,
   "id": "a6ac5caa",
   "metadata": {},
   "outputs": [
    {
     "name": "stdout",
     "output_type": "stream",
     "text": [
      "QAOA solution schedule\n",
      "[[[0], [1]], [[0], [1]]]\n"
     ]
    }
   ],
   "source": [
    "print(\"QAOA solution schedule\")\n",
    "print(qaoa_solution_schedule)"
   ]
  },
  {
   "cell_type": "code",
   "execution_count": 40,
   "id": "dcee7d21",
   "metadata": {},
   "outputs": [
    {
     "name": "stdout",
     "output_type": "stream",
     "text": [
      "QAOA makespan of the solution schedule\n",
      "2\n"
     ]
    }
   ],
   "source": [
    "print(\"QAOA makespan of the solution schedule\")\n",
    "print(qaoa_makespan)\n"
   ]
  },
  {
   "cell_type": "code",
   "execution_count": 41,
   "id": "56dfb955",
   "metadata": {},
   "outputs": [
    {
     "data": {
      "application/vnd.plotly.v1+json": {
       "config": {
        "plotlyServerURL": "https://plot.ly"
       },
       "data": [
        {
         "alignmentgroup": "True",
         "base": [
          "1971-01-01",
          "1971-01-02"
         ],
         "customdata": [
          [
           "operation-0"
          ],
          [
           "operation-1"
          ]
         ],
         "hovertemplate": "Job=job-0<br>Start=%{base}<br>Finish=%{x}<br>Machine=%{y}<br>Operation=%{customdata[0]}<extra></extra>",
         "legendgroup": "job-0",
         "marker": {
          "color": "#636efa",
          "line": {
           "color": "black",
           "width": 3
          }
         },
         "name": "job-0",
         "offsetgroup": "job-0",
         "opacity": 0.5,
         "orientation": "h",
         "showlegend": true,
         "textposition": "auto",
         "type": "bar",
         "x": [
          86400000,
          86400000
         ],
         "xaxis": "x",
         "y": [
          1,
          0
         ],
         "yaxis": "y"
        },
        {
         "alignmentgroup": "True",
         "base": [
          "1971-01-01",
          "1971-01-02"
         ],
         "customdata": [
          [
           "operation-0"
          ],
          [
           "operation-1"
          ]
         ],
         "hovertemplate": "Job=job-1<br>Start=%{base}<br>Finish=%{x}<br>Machine=%{y}<br>Operation=%{customdata[0]}<extra></extra>",
         "legendgroup": "job-1",
         "marker": {
          "color": "#EF553B",
          "line": {
           "color": "black",
           "width": 3
          }
         },
         "name": "job-1",
         "offsetgroup": "job-1",
         "opacity": 0.5,
         "orientation": "h",
         "showlegend": true,
         "textposition": "auto",
         "type": "bar",
         "x": [
          86400000,
          86400000
         ],
         "xaxis": "x",
         "y": [
          0,
          1
         ],
         "yaxis": "y"
        }
       ],
       "layout": {
        "barmode": "overlay",
        "legend": {
         "title": {
          "text": "Job"
         },
         "tracegroupgap": 0
        },
        "template": {
         "data": {
          "bar": [
           {
            "error_x": {
             "color": "#2a3f5f"
            },
            "error_y": {
             "color": "#2a3f5f"
            },
            "marker": {
             "line": {
              "color": "#E5ECF6",
              "width": 0.5
             },
             "pattern": {
              "fillmode": "overlay",
              "size": 10,
              "solidity": 0.2
             }
            },
            "type": "bar"
           }
          ],
          "barpolar": [
           {
            "marker": {
             "line": {
              "color": "#E5ECF6",
              "width": 0.5
             },
             "pattern": {
              "fillmode": "overlay",
              "size": 10,
              "solidity": 0.2
             }
            },
            "type": "barpolar"
           }
          ],
          "carpet": [
           {
            "aaxis": {
             "endlinecolor": "#2a3f5f",
             "gridcolor": "white",
             "linecolor": "white",
             "minorgridcolor": "white",
             "startlinecolor": "#2a3f5f"
            },
            "baxis": {
             "endlinecolor": "#2a3f5f",
             "gridcolor": "white",
             "linecolor": "white",
             "minorgridcolor": "white",
             "startlinecolor": "#2a3f5f"
            },
            "type": "carpet"
           }
          ],
          "choropleth": [
           {
            "colorbar": {
             "outlinewidth": 0,
             "ticks": ""
            },
            "type": "choropleth"
           }
          ],
          "contour": [
           {
            "colorbar": {
             "outlinewidth": 0,
             "ticks": ""
            },
            "colorscale": [
             [
              0,
              "#0d0887"
             ],
             [
              0.1111111111111111,
              "#46039f"
             ],
             [
              0.2222222222222222,
              "#7201a8"
             ],
             [
              0.3333333333333333,
              "#9c179e"
             ],
             [
              0.4444444444444444,
              "#bd3786"
             ],
             [
              0.5555555555555556,
              "#d8576b"
             ],
             [
              0.6666666666666666,
              "#ed7953"
             ],
             [
              0.7777777777777778,
              "#fb9f3a"
             ],
             [
              0.8888888888888888,
              "#fdca26"
             ],
             [
              1,
              "#f0f921"
             ]
            ],
            "type": "contour"
           }
          ],
          "contourcarpet": [
           {
            "colorbar": {
             "outlinewidth": 0,
             "ticks": ""
            },
            "type": "contourcarpet"
           }
          ],
          "heatmap": [
           {
            "colorbar": {
             "outlinewidth": 0,
             "ticks": ""
            },
            "colorscale": [
             [
              0,
              "#0d0887"
             ],
             [
              0.1111111111111111,
              "#46039f"
             ],
             [
              0.2222222222222222,
              "#7201a8"
             ],
             [
              0.3333333333333333,
              "#9c179e"
             ],
             [
              0.4444444444444444,
              "#bd3786"
             ],
             [
              0.5555555555555556,
              "#d8576b"
             ],
             [
              0.6666666666666666,
              "#ed7953"
             ],
             [
              0.7777777777777778,
              "#fb9f3a"
             ],
             [
              0.8888888888888888,
              "#fdca26"
             ],
             [
              1,
              "#f0f921"
             ]
            ],
            "type": "heatmap"
           }
          ],
          "heatmapgl": [
           {
            "colorbar": {
             "outlinewidth": 0,
             "ticks": ""
            },
            "colorscale": [
             [
              0,
              "#0d0887"
             ],
             [
              0.1111111111111111,
              "#46039f"
             ],
             [
              0.2222222222222222,
              "#7201a8"
             ],
             [
              0.3333333333333333,
              "#9c179e"
             ],
             [
              0.4444444444444444,
              "#bd3786"
             ],
             [
              0.5555555555555556,
              "#d8576b"
             ],
             [
              0.6666666666666666,
              "#ed7953"
             ],
             [
              0.7777777777777778,
              "#fb9f3a"
             ],
             [
              0.8888888888888888,
              "#fdca26"
             ],
             [
              1,
              "#f0f921"
             ]
            ],
            "type": "heatmapgl"
           }
          ],
          "histogram": [
           {
            "marker": {
             "pattern": {
              "fillmode": "overlay",
              "size": 10,
              "solidity": 0.2
             }
            },
            "type": "histogram"
           }
          ],
          "histogram2d": [
           {
            "colorbar": {
             "outlinewidth": 0,
             "ticks": ""
            },
            "colorscale": [
             [
              0,
              "#0d0887"
             ],
             [
              0.1111111111111111,
              "#46039f"
             ],
             [
              0.2222222222222222,
              "#7201a8"
             ],
             [
              0.3333333333333333,
              "#9c179e"
             ],
             [
              0.4444444444444444,
              "#bd3786"
             ],
             [
              0.5555555555555556,
              "#d8576b"
             ],
             [
              0.6666666666666666,
              "#ed7953"
             ],
             [
              0.7777777777777778,
              "#fb9f3a"
             ],
             [
              0.8888888888888888,
              "#fdca26"
             ],
             [
              1,
              "#f0f921"
             ]
            ],
            "type": "histogram2d"
           }
          ],
          "histogram2dcontour": [
           {
            "colorbar": {
             "outlinewidth": 0,
             "ticks": ""
            },
            "colorscale": [
             [
              0,
              "#0d0887"
             ],
             [
              0.1111111111111111,
              "#46039f"
             ],
             [
              0.2222222222222222,
              "#7201a8"
             ],
             [
              0.3333333333333333,
              "#9c179e"
             ],
             [
              0.4444444444444444,
              "#bd3786"
             ],
             [
              0.5555555555555556,
              "#d8576b"
             ],
             [
              0.6666666666666666,
              "#ed7953"
             ],
             [
              0.7777777777777778,
              "#fb9f3a"
             ],
             [
              0.8888888888888888,
              "#fdca26"
             ],
             [
              1,
              "#f0f921"
             ]
            ],
            "type": "histogram2dcontour"
           }
          ],
          "mesh3d": [
           {
            "colorbar": {
             "outlinewidth": 0,
             "ticks": ""
            },
            "type": "mesh3d"
           }
          ],
          "parcoords": [
           {
            "line": {
             "colorbar": {
              "outlinewidth": 0,
              "ticks": ""
             }
            },
            "type": "parcoords"
           }
          ],
          "pie": [
           {
            "automargin": true,
            "type": "pie"
           }
          ],
          "scatter": [
           {
            "fillpattern": {
             "fillmode": "overlay",
             "size": 10,
             "solidity": 0.2
            },
            "type": "scatter"
           }
          ],
          "scatter3d": [
           {
            "line": {
             "colorbar": {
              "outlinewidth": 0,
              "ticks": ""
             }
            },
            "marker": {
             "colorbar": {
              "outlinewidth": 0,
              "ticks": ""
             }
            },
            "type": "scatter3d"
           }
          ],
          "scattercarpet": [
           {
            "marker": {
             "colorbar": {
              "outlinewidth": 0,
              "ticks": ""
             }
            },
            "type": "scattercarpet"
           }
          ],
          "scattergeo": [
           {
            "marker": {
             "colorbar": {
              "outlinewidth": 0,
              "ticks": ""
             }
            },
            "type": "scattergeo"
           }
          ],
          "scattergl": [
           {
            "marker": {
             "colorbar": {
              "outlinewidth": 0,
              "ticks": ""
             }
            },
            "type": "scattergl"
           }
          ],
          "scattermapbox": [
           {
            "marker": {
             "colorbar": {
              "outlinewidth": 0,
              "ticks": ""
             }
            },
            "type": "scattermapbox"
           }
          ],
          "scatterpolar": [
           {
            "marker": {
             "colorbar": {
              "outlinewidth": 0,
              "ticks": ""
             }
            },
            "type": "scatterpolar"
           }
          ],
          "scatterpolargl": [
           {
            "marker": {
             "colorbar": {
              "outlinewidth": 0,
              "ticks": ""
             }
            },
            "type": "scatterpolargl"
           }
          ],
          "scatterternary": [
           {
            "marker": {
             "colorbar": {
              "outlinewidth": 0,
              "ticks": ""
             }
            },
            "type": "scatterternary"
           }
          ],
          "surface": [
           {
            "colorbar": {
             "outlinewidth": 0,
             "ticks": ""
            },
            "colorscale": [
             [
              0,
              "#0d0887"
             ],
             [
              0.1111111111111111,
              "#46039f"
             ],
             [
              0.2222222222222222,
              "#7201a8"
             ],
             [
              0.3333333333333333,
              "#9c179e"
             ],
             [
              0.4444444444444444,
              "#bd3786"
             ],
             [
              0.5555555555555556,
              "#d8576b"
             ],
             [
              0.6666666666666666,
              "#ed7953"
             ],
             [
              0.7777777777777778,
              "#fb9f3a"
             ],
             [
              0.8888888888888888,
              "#fdca26"
             ],
             [
              1,
              "#f0f921"
             ]
            ],
            "type": "surface"
           }
          ],
          "table": [
           {
            "cells": {
             "fill": {
              "color": "#EBF0F8"
             },
             "line": {
              "color": "white"
             }
            },
            "header": {
             "fill": {
              "color": "#C8D4E3"
             },
             "line": {
              "color": "white"
             }
            },
            "type": "table"
           }
          ]
         },
         "layout": {
          "annotationdefaults": {
           "arrowcolor": "#2a3f5f",
           "arrowhead": 0,
           "arrowwidth": 1
          },
          "autotypenumbers": "strict",
          "coloraxis": {
           "colorbar": {
            "outlinewidth": 0,
            "ticks": ""
           }
          },
          "colorscale": {
           "diverging": [
            [
             0,
             "#8e0152"
            ],
            [
             0.1,
             "#c51b7d"
            ],
            [
             0.2,
             "#de77ae"
            ],
            [
             0.3,
             "#f1b6da"
            ],
            [
             0.4,
             "#fde0ef"
            ],
            [
             0.5,
             "#f7f7f7"
            ],
            [
             0.6,
             "#e6f5d0"
            ],
            [
             0.7,
             "#b8e186"
            ],
            [
             0.8,
             "#7fbc41"
            ],
            [
             0.9,
             "#4d9221"
            ],
            [
             1,
             "#276419"
            ]
           ],
           "sequential": [
            [
             0,
             "#0d0887"
            ],
            [
             0.1111111111111111,
             "#46039f"
            ],
            [
             0.2222222222222222,
             "#7201a8"
            ],
            [
             0.3333333333333333,
             "#9c179e"
            ],
            [
             0.4444444444444444,
             "#bd3786"
            ],
            [
             0.5555555555555556,
             "#d8576b"
            ],
            [
             0.6666666666666666,
             "#ed7953"
            ],
            [
             0.7777777777777778,
             "#fb9f3a"
            ],
            [
             0.8888888888888888,
             "#fdca26"
            ],
            [
             1,
             "#f0f921"
            ]
           ],
           "sequentialminus": [
            [
             0,
             "#0d0887"
            ],
            [
             0.1111111111111111,
             "#46039f"
            ],
            [
             0.2222222222222222,
             "#7201a8"
            ],
            [
             0.3333333333333333,
             "#9c179e"
            ],
            [
             0.4444444444444444,
             "#bd3786"
            ],
            [
             0.5555555555555556,
             "#d8576b"
            ],
            [
             0.6666666666666666,
             "#ed7953"
            ],
            [
             0.7777777777777778,
             "#fb9f3a"
            ],
            [
             0.8888888888888888,
             "#fdca26"
            ],
            [
             1,
             "#f0f921"
            ]
           ]
          },
          "colorway": [
           "#636efa",
           "#EF553B",
           "#00cc96",
           "#ab63fa",
           "#FFA15A",
           "#19d3f3",
           "#FF6692",
           "#B6E880",
           "#FF97FF",
           "#FECB52"
          ],
          "font": {
           "color": "#2a3f5f"
          },
          "geo": {
           "bgcolor": "white",
           "lakecolor": "white",
           "landcolor": "#E5ECF6",
           "showlakes": true,
           "showland": true,
           "subunitcolor": "white"
          },
          "hoverlabel": {
           "align": "left"
          },
          "hovermode": "closest",
          "mapbox": {
           "style": "light"
          },
          "paper_bgcolor": "white",
          "plot_bgcolor": "#E5ECF6",
          "polar": {
           "angularaxis": {
            "gridcolor": "white",
            "linecolor": "white",
            "ticks": ""
           },
           "bgcolor": "#E5ECF6",
           "radialaxis": {
            "gridcolor": "white",
            "linecolor": "white",
            "ticks": ""
           }
          },
          "scene": {
           "xaxis": {
            "backgroundcolor": "#E5ECF6",
            "gridcolor": "white",
            "gridwidth": 2,
            "linecolor": "white",
            "showbackground": true,
            "ticks": "",
            "zerolinecolor": "white"
           },
           "yaxis": {
            "backgroundcolor": "#E5ECF6",
            "gridcolor": "white",
            "gridwidth": 2,
            "linecolor": "white",
            "showbackground": true,
            "ticks": "",
            "zerolinecolor": "white"
           },
           "zaxis": {
            "backgroundcolor": "#E5ECF6",
            "gridcolor": "white",
            "gridwidth": 2,
            "linecolor": "white",
            "showbackground": true,
            "ticks": "",
            "zerolinecolor": "white"
           }
          },
          "shapedefaults": {
           "line": {
            "color": "#2a3f5f"
           }
          },
          "ternary": {
           "aaxis": {
            "gridcolor": "white",
            "linecolor": "white",
            "ticks": ""
           },
           "baxis": {
            "gridcolor": "white",
            "linecolor": "white",
            "ticks": ""
           },
           "bgcolor": "#E5ECF6",
           "caxis": {
            "gridcolor": "white",
            "linecolor": "white",
            "ticks": ""
           }
          },
          "title": {
           "x": 0.05
          },
          "xaxis": {
           "automargin": true,
           "gridcolor": "white",
           "linecolor": "white",
           "ticks": "",
           "title": {
            "standoff": 15
           },
           "zerolinecolor": "white",
           "zerolinewidth": 2
          },
          "yaxis": {
           "automargin": true,
           "gridcolor": "white",
           "linecolor": "white",
           "ticks": "",
           "title": {
            "standoff": 15
           },
           "zerolinecolor": "white",
           "zerolinewidth": 2
          }
         }
        },
        "title": {
         "text": "Solution using QAOA()"
        },
        "xaxis": {
         "anchor": "y",
         "domain": [
          0,
          1
         ],
         "range": [
          "1971-01-01",
          "1971-01-04"
         ],
         "ticktext": [
          0,
          1,
          2,
          3
         ],
         "tickvals": [
          "1971-01-01",
          "1971-01-02",
          "1971-01-03",
          "1971-01-04"
         ],
         "type": "date"
        },
        "yaxis": {
         "anchor": "x",
         "autorange": "reversed",
         "domain": [
          0,
          1
         ],
         "title": {
          "text": "Machine"
         }
        }
       }
      }
     },
     "metadata": {},
     "output_type": "display_data"
    }
   ],
   "source": [
    "draw_solution(jsp, solution=qaoa_solution_schedule, x_max=qaoa_makespan+1, title='Solution using QAOA()')"
   ]
  },
  {
   "attachments": {},
   "cell_type": "markdown",
   "id": "65baa640",
   "metadata": {},
   "source": [
    "### ✔️ Success! QAOA solved this instance properly!"
   ]
  },
  {
   "attachments": {},
   "cell_type": "markdown",
   "id": "c1b2e08d",
   "metadata": {},
   "source": [
    "-----\n",
    "# Let's see how the QAOA-Ansatz shot samples our circuit  "
   ]
  },
  {
   "cell_type": "code",
   "execution_count": 42,
   "id": "033a12de",
   "metadata": {},
   "outputs": [],
   "source": [
    "from qiskit.providers.aer import AerSimulator\n",
    "from qiskit.utils import QuantumInstance\n",
    "from qiskit.opflow import CircuitSampler\n",
    "\n",
    "quantum_instance = backend\n",
    "circuit_sampler = CircuitSampler(quantum_instance)"
   ]
  },
  {
   "cell_type": "code",
   "execution_count": 43,
   "id": "072e58a0",
   "metadata": {},
   "outputs": [],
   "source": [
    "from ast import And\n",
    "from qiskit.circuit.library.n_local import QAOAAnsatz\n",
    "from qiskit.opflow import CircuitStateFn, OperatorStateFn, VectorStateFn, DictStateFn, CircuitSampler\n",
    "\n",
    "import plotly.graph_objects as go\n",
    "import pandas as pd\n",
    "\n",
    "\n",
    "def generate_bitstrings(number_bits: int):\n",
    "    return [bin(k)[2:].zfill(number_bits) for k in range(2**number_bits)]\n",
    "\n",
    "\n",
    "def generate_bitarrays(number_bits: int):\n",
    "    return [np.array(list(bin(k)[2:].zfill(number_bits))[::-1], dtype=int) for k in range(2**number_bits)]\n",
    "    \n",
    "number_binary_variables = qubo.get_num_binary_vars()\n",
    "\n",
    "ising, ising_offset = qubo.to_ising()\n",
    "simulator_with_shot_noise = False\n",
    "\n",
    "#%%\n",
    "qaoa_ansatz = QAOAAnsatz(cost_operator=ising, reps=qaoa_reps)\n",
    "wave_function = CircuitStateFn(qaoa_ansatz)\n",
    "observable = OperatorStateFn(ising, is_measurement=True)\n",
    "expectation_operator = observable @ wave_function\n",
    "\n",
    "def run_qaoa(parameter_values):\n",
    "    \"parameter_values is expected to be of the form [beta_0, beta_1, ..., gamma_0, gamma_1, ...]\"\n",
    "    parameter_bindings = dict(zip(qaoa_ansatz.parameters, parameter_values))\n",
    "    wave_function_sampled = circuit_sampler.convert(wave_function, params=parameter_bindings)\n",
    "    return wave_function_sampled\n",
    "\n",
    "#%%\n",
    "# Be careful: the data type of wave_function_sampled depends if shot noise is present\n",
    "wave_function_sampled = run_qaoa([*betas, *gammas])\n"
   ]
  },
  {
   "attachments": {},
   "cell_type": "markdown",
   "id": "aeff9ec2",
   "metadata": {},
   "source": [
    "-----\n",
    "### 📊 Prepare the shot sample results for a plot"
   ]
  },
  {
   "cell_type": "code",
   "execution_count": 44,
   "metadata": {},
   "outputs": [
    {
     "data": {
      "text/html": [
       "<div>\n",
       "<style scoped>\n",
       "    .dataframe tbody tr th:only-of-type {\n",
       "        vertical-align: middle;\n",
       "    }\n",
       "\n",
       "    .dataframe tbody tr th {\n",
       "        vertical-align: top;\n",
       "    }\n",
       "\n",
       "    .dataframe thead th {\n",
       "        text-align: right;\n",
       "    }\n",
       "</style>\n",
       "<table border=\"1\" class=\"dataframe\">\n",
       "  <thead>\n",
       "    <tr style=\"text-align: right;\">\n",
       "      <th></th>\n",
       "      <th>bitstring</th>\n",
       "      <th>probability</th>\n",
       "    </tr>\n",
       "  </thead>\n",
       "  <tbody>\n",
       "    <tr>\n",
       "      <th>0</th>\n",
       "      <td>10100101</td>\n",
       "      <td>0.098821</td>\n",
       "    </tr>\n",
       "    <tr>\n",
       "      <th>1</th>\n",
       "      <td>11110000</td>\n",
       "      <td>0.093750</td>\n",
       "    </tr>\n",
       "    <tr>\n",
       "      <th>2</th>\n",
       "      <td>00000010</td>\n",
       "      <td>0.093750</td>\n",
       "    </tr>\n",
       "    <tr>\n",
       "      <th>3</th>\n",
       "      <td>11001110</td>\n",
       "      <td>0.093750</td>\n",
       "    </tr>\n",
       "    <tr>\n",
       "      <th>4</th>\n",
       "      <td>11101100</td>\n",
       "      <td>0.093750</td>\n",
       "    </tr>\n",
       "    <tr>\n",
       "      <th>...</th>\n",
       "      <td>...</td>\n",
       "      <td>...</td>\n",
       "    </tr>\n",
       "    <tr>\n",
       "      <th>248</th>\n",
       "      <td>11000011</td>\n",
       "      <td>0.031250</td>\n",
       "    </tr>\n",
       "    <tr>\n",
       "      <th>249</th>\n",
       "      <td>01100110</td>\n",
       "      <td>0.031250</td>\n",
       "    </tr>\n",
       "    <tr>\n",
       "      <th>250</th>\n",
       "      <td>01001101</td>\n",
       "      <td>0.031250</td>\n",
       "    </tr>\n",
       "    <tr>\n",
       "      <th>251</th>\n",
       "      <td>00111011</td>\n",
       "      <td>0.031250</td>\n",
       "    </tr>\n",
       "    <tr>\n",
       "      <th>252</th>\n",
       "      <td>11111110</td>\n",
       "      <td>0.031250</td>\n",
       "    </tr>\n",
       "  </tbody>\n",
       "</table>\n",
       "<p>253 rows × 2 columns</p>\n",
       "</div>"
      ],
      "text/plain": [
       "    bitstring  probability\n",
       "0    10100101     0.098821\n",
       "1    11110000     0.093750\n",
       "2    00000010     0.093750\n",
       "3    11001110     0.093750\n",
       "4    11101100     0.093750\n",
       "..        ...          ...\n",
       "248  11000011     0.031250\n",
       "249  01100110     0.031250\n",
       "250  01001101     0.031250\n",
       "251  00111011     0.031250\n",
       "252  11111110     0.031250\n",
       "\n",
       "[253 rows x 2 columns]"
      ]
     },
     "execution_count": 44,
     "metadata": {},
     "output_type": "execute_result"
    }
   ],
   "source": [
    "samples_dict = wave_function_sampled.__dict__['_primitive']\n",
    "samples_dict_df = pd.DataFrame([(x, samples_dict[x]) for x in samples_dict])\n",
    "samples_dict_df = samples_dict_df.rename(columns={0: \"bitstring\", 1: \"probability\"})\n",
    "samples_dict_df = samples_dict_df.sort_values(by='probability', ascending=False).reset_index(drop=True)\n",
    "samples_dict_df"
   ]
  },
  {
   "cell_type": "code",
   "execution_count": 45,
   "id": "3a719f61",
   "metadata": {},
   "outputs": [],
   "source": [
    "optimal_value = cplex_result.fval"
   ]
  },
  {
   "cell_type": "code",
   "execution_count": 46,
   "metadata": {},
   "outputs": [],
   "source": [
    "df_further_info = pd.DataFrame(index=generate_bitstrings(number_binary_variables))\n",
    "\n",
    "df_further_info[\"bitstring\"] = df_further_info.index\n",
    "df_further_info[\"bitarray\"] = generate_bitarrays(number_binary_variables)\n",
    "df_further_info[\"cost\"] = df_further_info[\"bitarray\"].apply(qubo.objective.evaluate)\n",
    "df_further_info[\"is_optimal\"] = (df_further_info[\"cost\"] - optimal_value).apply(lambda x: np.isclose(x, 0)) \n",
    "df_further_info = df_further_info.reset_index(drop=True)"
   ]
  },
  {
   "cell_type": "code",
   "execution_count": 47,
   "metadata": {},
   "outputs": [
    {
     "data": {
      "text/html": [
       "<div>\n",
       "<style scoped>\n",
       "    .dataframe tbody tr th:only-of-type {\n",
       "        vertical-align: middle;\n",
       "    }\n",
       "\n",
       "    .dataframe tbody tr th {\n",
       "        vertical-align: top;\n",
       "    }\n",
       "\n",
       "    .dataframe thead th {\n",
       "        text-align: right;\n",
       "    }\n",
       "</style>\n",
       "<table border=\"1\" class=\"dataframe\">\n",
       "  <thead>\n",
       "    <tr style=\"text-align: right;\">\n",
       "      <th></th>\n",
       "      <th>bitstring</th>\n",
       "      <th>bitarray</th>\n",
       "      <th>cost</th>\n",
       "      <th>is_optimal</th>\n",
       "    </tr>\n",
       "  </thead>\n",
       "  <tbody>\n",
       "    <tr>\n",
       "      <th>0</th>\n",
       "      <td>00000000</td>\n",
       "      <td>[0, 0, 0, 0, 0, 0, 0, 0]</td>\n",
       "      <td>6.0</td>\n",
       "      <td>False</td>\n",
       "    </tr>\n",
       "    <tr>\n",
       "      <th>1</th>\n",
       "      <td>00000001</td>\n",
       "      <td>[1, 0, 0, 0, 0, 0, 0, 0]</td>\n",
       "      <td>5.0</td>\n",
       "      <td>False</td>\n",
       "    </tr>\n",
       "    <tr>\n",
       "      <th>2</th>\n",
       "      <td>00000010</td>\n",
       "      <td>[0, 1, 0, 0, 0, 0, 0, 0]</td>\n",
       "      <td>5.0</td>\n",
       "      <td>False</td>\n",
       "    </tr>\n",
       "    <tr>\n",
       "      <th>3</th>\n",
       "      <td>00000011</td>\n",
       "      <td>[1, 1, 0, 0, 0, 0, 0, 0]</td>\n",
       "      <td>8.0</td>\n",
       "      <td>False</td>\n",
       "    </tr>\n",
       "    <tr>\n",
       "      <th>4</th>\n",
       "      <td>00000100</td>\n",
       "      <td>[0, 0, 1, 0, 0, 0, 0, 0]</td>\n",
       "      <td>5.0</td>\n",
       "      <td>False</td>\n",
       "    </tr>\n",
       "    <tr>\n",
       "      <th>...</th>\n",
       "      <td>...</td>\n",
       "      <td>...</td>\n",
       "      <td>...</td>\n",
       "      <td>...</td>\n",
       "    </tr>\n",
       "    <tr>\n",
       "      <th>251</th>\n",
       "      <td>11111011</td>\n",
       "      <td>[1, 1, 0, 1, 1, 1, 1, 1]</td>\n",
       "      <td>5.0</td>\n",
       "      <td>False</td>\n",
       "    </tr>\n",
       "    <tr>\n",
       "      <th>252</th>\n",
       "      <td>11111100</td>\n",
       "      <td>[0, 0, 1, 1, 1, 1, 1, 1]</td>\n",
       "      <td>18.0</td>\n",
       "      <td>False</td>\n",
       "    </tr>\n",
       "    <tr>\n",
       "      <th>253</th>\n",
       "      <td>11111101</td>\n",
       "      <td>[1, 0, 1, 1, 1, 1, 1, 1]</td>\n",
       "      <td>9.0</td>\n",
       "      <td>False</td>\n",
       "    </tr>\n",
       "    <tr>\n",
       "      <th>254</th>\n",
       "      <td>11111110</td>\n",
       "      <td>[0, 1, 1, 1, 1, 1, 1, 1]</td>\n",
       "      <td>9.0</td>\n",
       "      <td>False</td>\n",
       "    </tr>\n",
       "    <tr>\n",
       "      <th>255</th>\n",
       "      <td>11111111</td>\n",
       "      <td>[1, 1, 1, 1, 1, 1, 1, 1]</td>\n",
       "      <td>4.0</td>\n",
       "      <td>False</td>\n",
       "    </tr>\n",
       "  </tbody>\n",
       "</table>\n",
       "<p>256 rows × 4 columns</p>\n",
       "</div>"
      ],
      "text/plain": [
       "    bitstring                  bitarray  cost  is_optimal\n",
       "0    00000000  [0, 0, 0, 0, 0, 0, 0, 0]   6.0       False\n",
       "1    00000001  [1, 0, 0, 0, 0, 0, 0, 0]   5.0       False\n",
       "2    00000010  [0, 1, 0, 0, 0, 0, 0, 0]   5.0       False\n",
       "3    00000011  [1, 1, 0, 0, 0, 0, 0, 0]   8.0       False\n",
       "4    00000100  [0, 0, 1, 0, 0, 0, 0, 0]   5.0       False\n",
       "..        ...                       ...   ...         ...\n",
       "251  11111011  [1, 1, 0, 1, 1, 1, 1, 1]   5.0       False\n",
       "252  11111100  [0, 0, 1, 1, 1, 1, 1, 1]  18.0       False\n",
       "253  11111101  [1, 0, 1, 1, 1, 1, 1, 1]   9.0       False\n",
       "254  11111110  [0, 1, 1, 1, 1, 1, 1, 1]   9.0       False\n",
       "255  11111111  [1, 1, 1, 1, 1, 1, 1, 1]   4.0       False\n",
       "\n",
       "[256 rows x 4 columns]"
      ]
     },
     "execution_count": 47,
     "metadata": {},
     "output_type": "execute_result"
    }
   ],
   "source": [
    "df_further_info"
   ]
  },
  {
   "cell_type": "code",
   "execution_count": 48,
   "id": "7f872f2f",
   "metadata": {},
   "outputs": [
    {
     "name": "stdout",
     "output_type": "stream",
     "text": [
      "    bitstring                  bitarray  cost  is_optimal  probability\n",
      "0    00000000  [0, 0, 0, 0, 0, 0, 0, 0]   6.0       False     0.044194\n",
      "1    00000001  [1, 0, 0, 0, 0, 0, 0, 0]   5.0       False     0.031250\n",
      "2    00000010  [0, 1, 0, 0, 0, 0, 0, 0]   5.0       False     0.093750\n",
      "3    00000011  [1, 1, 0, 0, 0, 0, 0, 0]   8.0       False     0.076547\n",
      "4    00000100  [0, 0, 1, 0, 0, 0, 0, 0]   5.0       False     0.082680\n",
      "..        ...                       ...   ...         ...          ...\n",
      "251  11111011  [1, 1, 0, 1, 1, 1, 1, 1]   5.0       False     0.093750\n",
      "252  11111100  [0, 0, 1, 1, 1, 1, 1, 1]  18.0       False     0.069877\n",
      "253  11111101  [1, 0, 1, 1, 1, 1, 1, 1]   9.0       False     0.044194\n",
      "254  11111110  [0, 1, 1, 1, 1, 1, 1, 1]   9.0       False     0.031250\n",
      "255  11111111  [1, 1, 1, 1, 1, 1, 1, 1]   4.0       False     0.082680\n",
      "\n",
      "[256 rows x 5 columns]\n"
     ]
    }
   ],
   "source": [
    "# Let's join the bitstring information with the sampled probabilities. \n",
    "df_further_info_with_probabilities = pd.merge(df_further_info, samples_dict_df,  how='left', left_on='bitstring', right_on='bitstring')\n",
    "df_further_info_with_probabilities['probability'].fillna(0, inplace=True) # after the left join we replace probabilities of NaNs with 0  \n",
    "print(f\"{df_further_info_with_probabilities}\")"
   ]
  },
  {
   "cell_type": "code",
   "execution_count": 49,
   "id": "1d8e82d1",
   "metadata": {},
   "outputs": [
    {
     "data": {
      "text/html": [
       "<div>\n",
       "<style scoped>\n",
       "    .dataframe tbody tr th:only-of-type {\n",
       "        vertical-align: middle;\n",
       "    }\n",
       "\n",
       "    .dataframe tbody tr th {\n",
       "        vertical-align: top;\n",
       "    }\n",
       "\n",
       "    .dataframe thead th {\n",
       "        text-align: right;\n",
       "    }\n",
       "</style>\n",
       "<table border=\"1\" class=\"dataframe\">\n",
       "  <thead>\n",
       "    <tr style=\"text-align: right;\">\n",
       "      <th></th>\n",
       "      <th>bitstring</th>\n",
       "      <th>bitarray</th>\n",
       "      <th>cost</th>\n",
       "      <th>is_optimal</th>\n",
       "      <th>probability</th>\n",
       "    </tr>\n",
       "  </thead>\n",
       "  <tbody>\n",
       "    <tr>\n",
       "      <th>165</th>\n",
       "      <td>10100101</td>\n",
       "      <td>[1, 0, 1, 0, 0, 1, 0, 1]</td>\n",
       "      <td>7.0</td>\n",
       "      <td>False</td>\n",
       "      <td>0.098821</td>\n",
       "    </tr>\n",
       "    <tr>\n",
       "      <th>2</th>\n",
       "      <td>00000010</td>\n",
       "      <td>[0, 1, 0, 0, 0, 0, 0, 0]</td>\n",
       "      <td>5.0</td>\n",
       "      <td>False</td>\n",
       "      <td>0.093750</td>\n",
       "    </tr>\n",
       "    <tr>\n",
       "      <th>251</th>\n",
       "      <td>11111011</td>\n",
       "      <td>[1, 1, 0, 1, 1, 1, 1, 1]</td>\n",
       "      <td>5.0</td>\n",
       "      <td>False</td>\n",
       "      <td>0.093750</td>\n",
       "    </tr>\n",
       "    <tr>\n",
       "      <th>240</th>\n",
       "      <td>11110000</td>\n",
       "      <td>[0, 0, 0, 0, 1, 1, 1, 1]</td>\n",
       "      <td>15.0</td>\n",
       "      <td>False</td>\n",
       "      <td>0.093750</td>\n",
       "    </tr>\n",
       "    <tr>\n",
       "      <th>236</th>\n",
       "      <td>11101100</td>\n",
       "      <td>[0, 0, 1, 1, 0, 1, 1, 1]</td>\n",
       "      <td>19.0</td>\n",
       "      <td>False</td>\n",
       "      <td>0.093750</td>\n",
       "    </tr>\n",
       "    <tr>\n",
       "      <th>206</th>\n",
       "      <td>11001110</td>\n",
       "      <td>[0, 1, 1, 1, 0, 0, 1, 1]</td>\n",
       "      <td>8.0</td>\n",
       "      <td>False</td>\n",
       "      <td>0.093750</td>\n",
       "    </tr>\n",
       "    <tr>\n",
       "      <th>155</th>\n",
       "      <td>10011011</td>\n",
       "      <td>[1, 1, 0, 1, 1, 0, 0, 1]</td>\n",
       "      <td>4.0</td>\n",
       "      <td>False</td>\n",
       "      <td>0.088388</td>\n",
       "    </tr>\n",
       "    <tr>\n",
       "      <th>49</th>\n",
       "      <td>00110001</td>\n",
       "      <td>[1, 0, 0, 0, 1, 1, 0, 0]</td>\n",
       "      <td>4.0</td>\n",
       "      <td>False</td>\n",
       "      <td>0.088388</td>\n",
       "    </tr>\n",
       "    <tr>\n",
       "      <th>54</th>\n",
       "      <td>00110110</td>\n",
       "      <td>[0, 1, 1, 0, 1, 1, 0, 0]</td>\n",
       "      <td>3.0</td>\n",
       "      <td>False</td>\n",
       "      <td>0.088388</td>\n",
       "    </tr>\n",
       "    <tr>\n",
       "      <th>122</th>\n",
       "      <td>01111010</td>\n",
       "      <td>[0, 1, 0, 1, 1, 1, 1, 0]</td>\n",
       "      <td>7.0</td>\n",
       "      <td>False</td>\n",
       "      <td>0.088388</td>\n",
       "    </tr>\n",
       "  </tbody>\n",
       "</table>\n",
       "</div>"
      ],
      "text/plain": [
       "    bitstring                  bitarray  cost  is_optimal  probability\n",
       "165  10100101  [1, 0, 1, 0, 0, 1, 0, 1]   7.0       False     0.098821\n",
       "2    00000010  [0, 1, 0, 0, 0, 0, 0, 0]   5.0       False     0.093750\n",
       "251  11111011  [1, 1, 0, 1, 1, 1, 1, 1]   5.0       False     0.093750\n",
       "240  11110000  [0, 0, 0, 0, 1, 1, 1, 1]  15.0       False     0.093750\n",
       "236  11101100  [0, 0, 1, 1, 0, 1, 1, 1]  19.0       False     0.093750\n",
       "206  11001110  [0, 1, 1, 1, 0, 0, 1, 1]   8.0       False     0.093750\n",
       "155  10011011  [1, 1, 0, 1, 1, 0, 0, 1]   4.0       False     0.088388\n",
       "49   00110001  [1, 0, 0, 0, 1, 1, 0, 0]   4.0       False     0.088388\n",
       "54   00110110  [0, 1, 1, 0, 1, 1, 0, 0]   3.0       False     0.088388\n",
       "122  01111010  [0, 1, 0, 1, 1, 1, 1, 0]   7.0       False     0.088388"
      ]
     },
     "execution_count": 49,
     "metadata": {},
     "output_type": "execute_result"
    }
   ],
   "source": [
    "df_further_info_with_probabilities_sorted = df_further_info_with_probabilities.sort_values(by='probability', ascending=False)\n",
    "df_further_info_with_probabilities_sorted[:10]"
   ]
  },
  {
   "attachments": {},
   "cell_type": "markdown",
   "id": "8447e4c6",
   "metadata": {},
   "source": [
    "-----\n",
    "### 📉 Plot the sampled results and optimal solutions"
   ]
  },
  {
   "cell_type": "code",
   "execution_count": 50,
   "id": "f77ff613",
   "metadata": {},
   "outputs": [
    {
     "data": {
      "application/vnd.plotly.v1+json": {
       "config": {
        "plotlyServerURL": "https://plot.ly"
       },
       "data": [
        {
         "line": {
          "color": "black",
          "width": 1
         },
         "name": "probability of a given bitstring",
         "type": "scatter",
         "x": [
          "10100101",
          "00000010",
          "11111011",
          "11110000",
          "11101100",
          "11001110",
          "10011011",
          "00110001",
          "00110110",
          "01111010",
          "10000000",
          "00011011",
          "10101000",
          "10010110",
          "10001110",
          "10101010",
          "01101111",
          "01100101",
          "01000100",
          "10110001",
          "10110101",
          "00011101",
          "11111111",
          "00000110",
          "00010101",
          "00000100",
          "11100011",
          "01000011",
          "10001101",
          "10000011",
          "11011110",
          "00111101",
          "00111111",
          "01000000",
          "01001001",
          "01000110",
          "00101011",
          "01110010",
          "11100111",
          "01100100",
          "11101001",
          "01010101",
          "11010110",
          "00011000",
          "11010100",
          "10110100",
          "11000010",
          "11000001",
          "10110011",
          "00000011",
          "10101101",
          "00100000",
          "00100110",
          "11000000",
          "00001000",
          "10100110",
          "01110011",
          "10111101",
          "11100100",
          "01110001",
          "00000111",
          "01101100",
          "11100101",
          "11100110",
          "01101000",
          "11000101",
          "11000111",
          "01011110",
          "01110110",
          "01111100",
          "11100001",
          "00001111",
          "10011100",
          "11011001",
          "11011010",
          "10011000",
          "10010111",
          "11011100",
          "10010001",
          "10001100",
          "01011011",
          "10001001",
          "10000110",
          "11011111",
          "01111110",
          "01111101",
          "10011110",
          "01011101",
          "00010111",
          "00101010",
          "00111100",
          "00011001",
          "00010010",
          "11111100",
          "00111010",
          "01001110",
          "00101110",
          "00101000",
          "01010001",
          "00110000",
          "10011101",
          "00101111",
          "00110100",
          "00110011",
          "10010011",
          "10100010",
          "10001000",
          "10000111",
          "10000101",
          "10001111",
          "11010101",
          "11110001",
          "10101100",
          "11010010",
          "10110010",
          "00100011",
          "00100010",
          "10111000",
          "11010001",
          "11010000",
          "11001111",
          "10111110",
          "00010110",
          "11001000",
          "11100000",
          "11001011",
          "01010100",
          "11101101",
          "01010011",
          "01001011",
          "01110100",
          "01001100",
          "01100010",
          "11101010",
          "01110101",
          "01100000",
          "11101111",
          "00010001",
          "11100010",
          "01101110",
          "01111000",
          "01000010",
          "01011000",
          "01111011",
          "00101001",
          "00100100",
          "01101010",
          "01010010",
          "10101011",
          "00001001",
          "11111010",
          "11010011",
          "10100100",
          "10110110",
          "10110111",
          "00001010",
          "10111100",
          "00100001",
          "11101011",
          "10111111",
          "01010110",
          "00011110",
          "01010111",
          "00011010",
          "11000110",
          "01011100",
          "10101001",
          "01011001",
          "11101110",
          "10010010",
          "10000001",
          "11110011",
          "01000101",
          "10000100",
          "11110101",
          "01000111",
          "00111000",
          "10001010",
          "00110111",
          "00110101",
          "00001110",
          "10010000",
          "01101101",
          "00000101",
          "00101101",
          "11011011",
          "00110010",
          "00001011",
          "00101100",
          "10011010",
          "11001010",
          "01001000",
          "10100000",
          "11001100",
          "11010111",
          "11011101",
          "11011000",
          "11111101",
          "11101000",
          "11110111",
          "11111000",
          "11110010",
          "10001011",
          "11001001",
          "01010000",
          "01110111",
          "01110000",
          "01101001",
          "01100111",
          "01100001",
          "01011111",
          "01011010",
          "01001111",
          "01111111",
          "01001010",
          "00111110",
          "00111001",
          "00010100",
          "00100101",
          "00011111",
          "00011100",
          "01111001",
          "00000000",
          "10111010",
          "10100111",
          "10010100",
          "00001101",
          "10101111",
          "10111011",
          "10011001",
          "10000010",
          "10101110",
          "10111001",
          "10011111",
          "10100001",
          "10100011",
          "00010011",
          "00000001",
          "11111001",
          "00100111",
          "11000011",
          "11111110",
          "11110110",
          "01001101",
          "00111011",
          "01000001",
          "01100011",
          "01100110",
          "00001100",
          "11000100",
          "00010000",
          "10010101",
          "01101011",
          "11110100",
          "10110000",
          "11001101"
         ],
         "y": [
          0.09882117688026186,
          0.09375,
          0.09375,
          0.09375,
          0.09375,
          0.09375,
          0.08838834764831845,
          0.08838834764831845,
          0.08838834764831845,
          0.08838834764831845,
          0.08838834764831845,
          0.08267972847076846,
          0.08267972847076846,
          0.08267972847076846,
          0.08267972847076846,
          0.08267972847076846,
          0.08267972847076846,
          0.08267972847076846,
          0.08267972847076846,
          0.08267972847076846,
          0.08267972847076846,
          0.08267972847076846,
          0.08267972847076846,
          0.08267972847076846,
          0.08267972847076846,
          0.08267972847076846,
          0.07654655446197431,
          0.07654655446197431,
          0.07654655446197431,
          0.07654655446197431,
          0.07654655446197431,
          0.07654655446197431,
          0.07654655446197431,
          0.07654655446197431,
          0.07654655446197431,
          0.07654655446197431,
          0.07654655446197431,
          0.07654655446197431,
          0.07654655446197431,
          0.07654655446197431,
          0.07654655446197431,
          0.07654655446197431,
          0.07654655446197431,
          0.07654655446197431,
          0.07654655446197431,
          0.07654655446197431,
          0.07654655446197431,
          0.07654655446197431,
          0.07654655446197431,
          0.07654655446197431,
          0.07654655446197431,
          0.07654655446197431,
          0.07654655446197431,
          0.07654655446197431,
          0.07654655446197431,
          0.06987712429686843,
          0.06987712429686843,
          0.06987712429686843,
          0.06987712429686843,
          0.06987712429686843,
          0.06987712429686843,
          0.06987712429686843,
          0.06987712429686843,
          0.06987712429686843,
          0.06987712429686843,
          0.06987712429686843,
          0.06987712429686843,
          0.06987712429686843,
          0.06987712429686843,
          0.06987712429686843,
          0.06987712429686843,
          0.06987712429686843,
          0.06987712429686843,
          0.06987712429686843,
          0.06987712429686843,
          0.06987712429686843,
          0.06987712429686843,
          0.06987712429686843,
          0.06987712429686843,
          0.06987712429686843,
          0.06987712429686843,
          0.06987712429686843,
          0.06987712429686843,
          0.06987712429686843,
          0.06987712429686843,
          0.06987712429686843,
          0.06987712429686843,
          0.06987712429686843,
          0.06987712429686843,
          0.06987712429686843,
          0.06987712429686843,
          0.06987712429686843,
          0.06987712429686843,
          0.06987712429686843,
          0.06987712429686843,
          0.06987712429686843,
          0.06987712429686843,
          0.06987712429686843,
          0.06987712429686843,
          0.0625,
          0.0625,
          0.0625,
          0.0625,
          0.0625,
          0.0625,
          0.0625,
          0.0625,
          0.0625,
          0.0625,
          0.0625,
          0.0625,
          0.0625,
          0.0625,
          0.0625,
          0.0625,
          0.0625,
          0.0625,
          0.0625,
          0.0625,
          0.0625,
          0.0625,
          0.0625,
          0.0625,
          0.0625,
          0.0625,
          0.0625,
          0.0625,
          0.0625,
          0.0625,
          0.0625,
          0.0625,
          0.0625,
          0.0625,
          0.0625,
          0.0625,
          0.0625,
          0.0625,
          0.0625,
          0.0625,
          0.0625,
          0.0625,
          0.0625,
          0.0625,
          0.0625,
          0.05412658773652741,
          0.05412658773652741,
          0.05412658773652741,
          0.05412658773652741,
          0.05412658773652741,
          0.05412658773652741,
          0.05412658773652741,
          0.05412658773652741,
          0.05412658773652741,
          0.05412658773652741,
          0.05412658773652741,
          0.05412658773652741,
          0.05412658773652741,
          0.05412658773652741,
          0.05412658773652741,
          0.05412658773652741,
          0.05412658773652741,
          0.05412658773652741,
          0.05412658773652741,
          0.05412658773652741,
          0.05412658773652741,
          0.05412658773652741,
          0.05412658773652741,
          0.05412658773652741,
          0.05412658773652741,
          0.05412658773652741,
          0.05412658773652741,
          0.05412658773652741,
          0.05412658773652741,
          0.05412658773652741,
          0.05412658773652741,
          0.05412658773652741,
          0.05412658773652741,
          0.05412658773652741,
          0.05412658773652741,
          0.05412658773652741,
          0.05412658773652741,
          0.05412658773652741,
          0.05412658773652741,
          0.05412658773652741,
          0.05412658773652741,
          0.05412658773652741,
          0.05412658773652741,
          0.05412658773652741,
          0.05412658773652741,
          0.05412658773652741,
          0.05412658773652741,
          0.05412658773652741,
          0.05412658773652741,
          0.04419417382415922,
          0.04419417382415922,
          0.04419417382415922,
          0.04419417382415922,
          0.04419417382415922,
          0.04419417382415922,
          0.04419417382415922,
          0.04419417382415922,
          0.04419417382415922,
          0.04419417382415922,
          0.04419417382415922,
          0.04419417382415922,
          0.04419417382415922,
          0.04419417382415922,
          0.04419417382415922,
          0.04419417382415922,
          0.04419417382415922,
          0.04419417382415922,
          0.04419417382415922,
          0.04419417382415922,
          0.04419417382415922,
          0.04419417382415922,
          0.04419417382415922,
          0.04419417382415922,
          0.04419417382415922,
          0.04419417382415922,
          0.04419417382415922,
          0.04419417382415922,
          0.04419417382415922,
          0.04419417382415922,
          0.04419417382415922,
          0.04419417382415922,
          0.04419417382415922,
          0.04419417382415922,
          0.04419417382415922,
          0.04419417382415922,
          0.04419417382415922,
          0.04419417382415922,
          0.04419417382415922,
          0.04419417382415922,
          0.04419417382415922,
          0.04419417382415922,
          0.04419417382415922,
          0.03125,
          0.03125,
          0.03125,
          0.03125,
          0.03125,
          0.03125,
          0.03125,
          0.03125,
          0.03125,
          0.03125,
          0.03125,
          0.03125,
          0.03125,
          0.03125,
          0.03125,
          0.03125,
          0.03125,
          0,
          0,
          0
         ]
        },
        {
         "marker": {
          "color": "red",
          "size": 12,
          "symbol": "arrow-down"
         },
         "mode": "markers",
         "name": "optimal solution",
         "type": "scatter",
         "x": [
          "00111111"
         ],
         "y": [
          0.07654655446197431
         ]
        }
       ],
       "layout": {
        "template": {
         "data": {
          "bar": [
           {
            "error_x": {
             "color": "#2a3f5f"
            },
            "error_y": {
             "color": "#2a3f5f"
            },
            "marker": {
             "line": {
              "color": "#E5ECF6",
              "width": 0.5
             },
             "pattern": {
              "fillmode": "overlay",
              "size": 10,
              "solidity": 0.2
             }
            },
            "type": "bar"
           }
          ],
          "barpolar": [
           {
            "marker": {
             "line": {
              "color": "#E5ECF6",
              "width": 0.5
             },
             "pattern": {
              "fillmode": "overlay",
              "size": 10,
              "solidity": 0.2
             }
            },
            "type": "barpolar"
           }
          ],
          "carpet": [
           {
            "aaxis": {
             "endlinecolor": "#2a3f5f",
             "gridcolor": "white",
             "linecolor": "white",
             "minorgridcolor": "white",
             "startlinecolor": "#2a3f5f"
            },
            "baxis": {
             "endlinecolor": "#2a3f5f",
             "gridcolor": "white",
             "linecolor": "white",
             "minorgridcolor": "white",
             "startlinecolor": "#2a3f5f"
            },
            "type": "carpet"
           }
          ],
          "choropleth": [
           {
            "colorbar": {
             "outlinewidth": 0,
             "ticks": ""
            },
            "type": "choropleth"
           }
          ],
          "contour": [
           {
            "colorbar": {
             "outlinewidth": 0,
             "ticks": ""
            },
            "colorscale": [
             [
              0,
              "#0d0887"
             ],
             [
              0.1111111111111111,
              "#46039f"
             ],
             [
              0.2222222222222222,
              "#7201a8"
             ],
             [
              0.3333333333333333,
              "#9c179e"
             ],
             [
              0.4444444444444444,
              "#bd3786"
             ],
             [
              0.5555555555555556,
              "#d8576b"
             ],
             [
              0.6666666666666666,
              "#ed7953"
             ],
             [
              0.7777777777777778,
              "#fb9f3a"
             ],
             [
              0.8888888888888888,
              "#fdca26"
             ],
             [
              1,
              "#f0f921"
             ]
            ],
            "type": "contour"
           }
          ],
          "contourcarpet": [
           {
            "colorbar": {
             "outlinewidth": 0,
             "ticks": ""
            },
            "type": "contourcarpet"
           }
          ],
          "heatmap": [
           {
            "colorbar": {
             "outlinewidth": 0,
             "ticks": ""
            },
            "colorscale": [
             [
              0,
              "#0d0887"
             ],
             [
              0.1111111111111111,
              "#46039f"
             ],
             [
              0.2222222222222222,
              "#7201a8"
             ],
             [
              0.3333333333333333,
              "#9c179e"
             ],
             [
              0.4444444444444444,
              "#bd3786"
             ],
             [
              0.5555555555555556,
              "#d8576b"
             ],
             [
              0.6666666666666666,
              "#ed7953"
             ],
             [
              0.7777777777777778,
              "#fb9f3a"
             ],
             [
              0.8888888888888888,
              "#fdca26"
             ],
             [
              1,
              "#f0f921"
             ]
            ],
            "type": "heatmap"
           }
          ],
          "heatmapgl": [
           {
            "colorbar": {
             "outlinewidth": 0,
             "ticks": ""
            },
            "colorscale": [
             [
              0,
              "#0d0887"
             ],
             [
              0.1111111111111111,
              "#46039f"
             ],
             [
              0.2222222222222222,
              "#7201a8"
             ],
             [
              0.3333333333333333,
              "#9c179e"
             ],
             [
              0.4444444444444444,
              "#bd3786"
             ],
             [
              0.5555555555555556,
              "#d8576b"
             ],
             [
              0.6666666666666666,
              "#ed7953"
             ],
             [
              0.7777777777777778,
              "#fb9f3a"
             ],
             [
              0.8888888888888888,
              "#fdca26"
             ],
             [
              1,
              "#f0f921"
             ]
            ],
            "type": "heatmapgl"
           }
          ],
          "histogram": [
           {
            "marker": {
             "pattern": {
              "fillmode": "overlay",
              "size": 10,
              "solidity": 0.2
             }
            },
            "type": "histogram"
           }
          ],
          "histogram2d": [
           {
            "colorbar": {
             "outlinewidth": 0,
             "ticks": ""
            },
            "colorscale": [
             [
              0,
              "#0d0887"
             ],
             [
              0.1111111111111111,
              "#46039f"
             ],
             [
              0.2222222222222222,
              "#7201a8"
             ],
             [
              0.3333333333333333,
              "#9c179e"
             ],
             [
              0.4444444444444444,
              "#bd3786"
             ],
             [
              0.5555555555555556,
              "#d8576b"
             ],
             [
              0.6666666666666666,
              "#ed7953"
             ],
             [
              0.7777777777777778,
              "#fb9f3a"
             ],
             [
              0.8888888888888888,
              "#fdca26"
             ],
             [
              1,
              "#f0f921"
             ]
            ],
            "type": "histogram2d"
           }
          ],
          "histogram2dcontour": [
           {
            "colorbar": {
             "outlinewidth": 0,
             "ticks": ""
            },
            "colorscale": [
             [
              0,
              "#0d0887"
             ],
             [
              0.1111111111111111,
              "#46039f"
             ],
             [
              0.2222222222222222,
              "#7201a8"
             ],
             [
              0.3333333333333333,
              "#9c179e"
             ],
             [
              0.4444444444444444,
              "#bd3786"
             ],
             [
              0.5555555555555556,
              "#d8576b"
             ],
             [
              0.6666666666666666,
              "#ed7953"
             ],
             [
              0.7777777777777778,
              "#fb9f3a"
             ],
             [
              0.8888888888888888,
              "#fdca26"
             ],
             [
              1,
              "#f0f921"
             ]
            ],
            "type": "histogram2dcontour"
           }
          ],
          "mesh3d": [
           {
            "colorbar": {
             "outlinewidth": 0,
             "ticks": ""
            },
            "type": "mesh3d"
           }
          ],
          "parcoords": [
           {
            "line": {
             "colorbar": {
              "outlinewidth": 0,
              "ticks": ""
             }
            },
            "type": "parcoords"
           }
          ],
          "pie": [
           {
            "automargin": true,
            "type": "pie"
           }
          ],
          "scatter": [
           {
            "fillpattern": {
             "fillmode": "overlay",
             "size": 10,
             "solidity": 0.2
            },
            "type": "scatter"
           }
          ],
          "scatter3d": [
           {
            "line": {
             "colorbar": {
              "outlinewidth": 0,
              "ticks": ""
             }
            },
            "marker": {
             "colorbar": {
              "outlinewidth": 0,
              "ticks": ""
             }
            },
            "type": "scatter3d"
           }
          ],
          "scattercarpet": [
           {
            "marker": {
             "colorbar": {
              "outlinewidth": 0,
              "ticks": ""
             }
            },
            "type": "scattercarpet"
           }
          ],
          "scattergeo": [
           {
            "marker": {
             "colorbar": {
              "outlinewidth": 0,
              "ticks": ""
             }
            },
            "type": "scattergeo"
           }
          ],
          "scattergl": [
           {
            "marker": {
             "colorbar": {
              "outlinewidth": 0,
              "ticks": ""
             }
            },
            "type": "scattergl"
           }
          ],
          "scattermapbox": [
           {
            "marker": {
             "colorbar": {
              "outlinewidth": 0,
              "ticks": ""
             }
            },
            "type": "scattermapbox"
           }
          ],
          "scatterpolar": [
           {
            "marker": {
             "colorbar": {
              "outlinewidth": 0,
              "ticks": ""
             }
            },
            "type": "scatterpolar"
           }
          ],
          "scatterpolargl": [
           {
            "marker": {
             "colorbar": {
              "outlinewidth": 0,
              "ticks": ""
             }
            },
            "type": "scatterpolargl"
           }
          ],
          "scatterternary": [
           {
            "marker": {
             "colorbar": {
              "outlinewidth": 0,
              "ticks": ""
             }
            },
            "type": "scatterternary"
           }
          ],
          "surface": [
           {
            "colorbar": {
             "outlinewidth": 0,
             "ticks": ""
            },
            "colorscale": [
             [
              0,
              "#0d0887"
             ],
             [
              0.1111111111111111,
              "#46039f"
             ],
             [
              0.2222222222222222,
              "#7201a8"
             ],
             [
              0.3333333333333333,
              "#9c179e"
             ],
             [
              0.4444444444444444,
              "#bd3786"
             ],
             [
              0.5555555555555556,
              "#d8576b"
             ],
             [
              0.6666666666666666,
              "#ed7953"
             ],
             [
              0.7777777777777778,
              "#fb9f3a"
             ],
             [
              0.8888888888888888,
              "#fdca26"
             ],
             [
              1,
              "#f0f921"
             ]
            ],
            "type": "surface"
           }
          ],
          "table": [
           {
            "cells": {
             "fill": {
              "color": "#EBF0F8"
             },
             "line": {
              "color": "white"
             }
            },
            "header": {
             "fill": {
              "color": "#C8D4E3"
             },
             "line": {
              "color": "white"
             }
            },
            "type": "table"
           }
          ]
         },
         "layout": {
          "annotationdefaults": {
           "arrowcolor": "#2a3f5f",
           "arrowhead": 0,
           "arrowwidth": 1
          },
          "autotypenumbers": "strict",
          "coloraxis": {
           "colorbar": {
            "outlinewidth": 0,
            "ticks": ""
           }
          },
          "colorscale": {
           "diverging": [
            [
             0,
             "#8e0152"
            ],
            [
             0.1,
             "#c51b7d"
            ],
            [
             0.2,
             "#de77ae"
            ],
            [
             0.3,
             "#f1b6da"
            ],
            [
             0.4,
             "#fde0ef"
            ],
            [
             0.5,
             "#f7f7f7"
            ],
            [
             0.6,
             "#e6f5d0"
            ],
            [
             0.7,
             "#b8e186"
            ],
            [
             0.8,
             "#7fbc41"
            ],
            [
             0.9,
             "#4d9221"
            ],
            [
             1,
             "#276419"
            ]
           ],
           "sequential": [
            [
             0,
             "#0d0887"
            ],
            [
             0.1111111111111111,
             "#46039f"
            ],
            [
             0.2222222222222222,
             "#7201a8"
            ],
            [
             0.3333333333333333,
             "#9c179e"
            ],
            [
             0.4444444444444444,
             "#bd3786"
            ],
            [
             0.5555555555555556,
             "#d8576b"
            ],
            [
             0.6666666666666666,
             "#ed7953"
            ],
            [
             0.7777777777777778,
             "#fb9f3a"
            ],
            [
             0.8888888888888888,
             "#fdca26"
            ],
            [
             1,
             "#f0f921"
            ]
           ],
           "sequentialminus": [
            [
             0,
             "#0d0887"
            ],
            [
             0.1111111111111111,
             "#46039f"
            ],
            [
             0.2222222222222222,
             "#7201a8"
            ],
            [
             0.3333333333333333,
             "#9c179e"
            ],
            [
             0.4444444444444444,
             "#bd3786"
            ],
            [
             0.5555555555555556,
             "#d8576b"
            ],
            [
             0.6666666666666666,
             "#ed7953"
            ],
            [
             0.7777777777777778,
             "#fb9f3a"
            ],
            [
             0.8888888888888888,
             "#fdca26"
            ],
            [
             1,
             "#f0f921"
            ]
           ]
          },
          "colorway": [
           "#636efa",
           "#EF553B",
           "#00cc96",
           "#ab63fa",
           "#FFA15A",
           "#19d3f3",
           "#FF6692",
           "#B6E880",
           "#FF97FF",
           "#FECB52"
          ],
          "font": {
           "color": "#2a3f5f"
          },
          "geo": {
           "bgcolor": "white",
           "lakecolor": "white",
           "landcolor": "#E5ECF6",
           "showlakes": true,
           "showland": true,
           "subunitcolor": "white"
          },
          "hoverlabel": {
           "align": "left"
          },
          "hovermode": "closest",
          "mapbox": {
           "style": "light"
          },
          "paper_bgcolor": "white",
          "plot_bgcolor": "#E5ECF6",
          "polar": {
           "angularaxis": {
            "gridcolor": "white",
            "linecolor": "white",
            "ticks": ""
           },
           "bgcolor": "#E5ECF6",
           "radialaxis": {
            "gridcolor": "white",
            "linecolor": "white",
            "ticks": ""
           }
          },
          "scene": {
           "xaxis": {
            "backgroundcolor": "#E5ECF6",
            "gridcolor": "white",
            "gridwidth": 2,
            "linecolor": "white",
            "showbackground": true,
            "ticks": "",
            "zerolinecolor": "white"
           },
           "yaxis": {
            "backgroundcolor": "#E5ECF6",
            "gridcolor": "white",
            "gridwidth": 2,
            "linecolor": "white",
            "showbackground": true,
            "ticks": "",
            "zerolinecolor": "white"
           },
           "zaxis": {
            "backgroundcolor": "#E5ECF6",
            "gridcolor": "white",
            "gridwidth": 2,
            "linecolor": "white",
            "showbackground": true,
            "ticks": "",
            "zerolinecolor": "white"
           }
          },
          "shapedefaults": {
           "line": {
            "color": "#2a3f5f"
           }
          },
          "ternary": {
           "aaxis": {
            "gridcolor": "white",
            "linecolor": "white",
            "ticks": ""
           },
           "baxis": {
            "gridcolor": "white",
            "linecolor": "white",
            "ticks": ""
           },
           "bgcolor": "#E5ECF6",
           "caxis": {
            "gridcolor": "white",
            "linecolor": "white",
            "ticks": ""
           }
          },
          "title": {
           "x": 0.05
          },
          "xaxis": {
           "automargin": true,
           "gridcolor": "white",
           "linecolor": "white",
           "ticks": "",
           "title": {
            "standoff": 15
           },
           "zerolinecolor": "white",
           "zerolinewidth": 2
          },
          "yaxis": {
           "automargin": true,
           "gridcolor": "white",
           "linecolor": "white",
           "ticks": "",
           "title": {
            "standoff": 15
           },
           "zerolinecolor": "white",
           "zerolinewidth": 2
          }
         }
        },
        "title": {
         "font": {
          "size": 12
         },
         "text": "JSP-Instance: ./data/agrg_minimal.txt, \t Backend: qasm_simulator<br>QAOA: p=1, shots: 100000<br>penalty factors: p4=1, p5=1, p6=1, p7=1 <br>betas: 0.000, gammas: 0.000, "
        },
        "xaxis": {
         "tickfont": {
          "size": 1
         },
         "title": {
          "text": "bitstring"
         }
        },
        "yaxis": {
         "title": {
          "font": {
           "size": 12
          },
          "text": "probability"
         }
        }
       }
      }
     },
     "metadata": {},
     "output_type": "display_data"
    }
   ],
   "source": [
    "df_to_be_ploted = df_further_info_with_probabilities_sorted\n",
    "\n",
    "#%%\n",
    "fig = go.Figure()\n",
    "fig.add_trace(go.Scatter(\n",
    "    x=df_to_be_ploted['bitstring'],\n",
    "    y=df_to_be_ploted[\"probability\"],\n",
    "    line_color=\"black\",\n",
    "    line_width=1.0,\n",
    "    name=f\"probability of a given bitstring\"\n",
    "))\n",
    "fig.add_trace(go.Scatter(\n",
    "    x=df_to_be_ploted[df_to_be_ploted[\"is_optimal\"]]['bitstring'],\n",
    "    y=df_to_be_ploted[df_to_be_ploted[\"is_optimal\"]][\"probability\"],\n",
    "    mode=\"markers\",\n",
    "    marker_symbol=\"arrow-down\",\n",
    "    marker_size=12,\n",
    "    marker_color=\"red\",\n",
    "    name=\"optimal solution\"\n",
    "))\n",
    "fig.update_xaxes(\n",
    "    tickfont_size=1,\n",
    "    title='bitstring'\n",
    ")\n",
    "fig.update_yaxes(\n",
    "    title=\"probability\",\n",
    "    title_font_size=12,\n",
    "    \n",
    ")\n",
    "title_betas = \"\".join([f\"{beta:.3f}, \" for beta in betas])\n",
    "title_gammas = \"\".join([f\"{gamma:.3f}, \" for gamma in gammas])\n",
    "fig.update_layout(\n",
    "    title=f\"JSP-Instance: {jsp_filepath}, \\t Backend: {backend}<br>\" \\\n",
    "    f\"\" \\\n",
    "    f\"QAOA: p={qaoa_reps}, shots: {number_of_shots}<br>\" \\\n",
    "    f\"penalty factors: p4={p4}, p5={p5}, p6={p6}, p7={p7} <br>\" \\\n",
    "        + \"betas: \" + title_betas + \"gammas: \" + title_gammas,\n",
    "    title_font_size=12\n",
    ")"
   ]
  },
  {
   "attachments": {},
   "cell_type": "markdown",
   "id": "3503cfd5",
   "metadata": {},
   "source": [
    "---\n",
    "\n",
    "(c) Author: Arthur Grigorjan, arthur.grigrojan@ipa.fraunhofer.de\n",
    "\n",
    "---"
   ]
  },
  {
   "attachments": {},
   "cell_type": "markdown",
   "id": "dbd5e7e8",
   "metadata": {},
   "source": [
    "**Copyright 2023 Arthur Grigorjan, Fraunhofer IPA**\n",
    "\n",
    "Licensed under the Apache License, Version 2.0 (the \"License\"); you may not use this file except in compliance with the License. You may obtain a copy of the License at\n",
    "\n",
    "http://www.apache.org/licenses/LICENSE-2.0\n",
    "\n",
    "Unless required by applicable law or agreed to in writing, software distributed under the License is distributed on an \"AS IS\" BASIS, WITHOUT WARRANTIES OR CONDITIONS OF ANY KIND, either express or implied. See the License for the specific language governing permissions and limitations under the License."
   ]
  }
 ],
 "metadata": {
  "kernelspec": {
   "display_name": "Python 3.8.13 ('qiskit-2022-05')",
   "language": "python",
   "name": "python3"
  },
  "language_info": {
   "codemirror_mode": {
    "name": "ipython",
    "version": 3
   },
   "file_extension": ".py",
   "mimetype": "text/x-python",
   "name": "python",
   "nbconvert_exporter": "python",
   "pygments_lexer": "ipython3",
   "version": "3.8.13"
  },
  "vscode": {
   "interpreter": {
    "hash": "06a7a56c2e5aaaf00d7908524e96c99945b7d420ba61f92287f5017c107ff496"
   }
  },
  "widgets": {
   "application/vnd.jupyter.widget-state+json": {
    "state": {
     "0d66d532161d436197683b8915023333": {
      "model_module": "@jupyter-widgets/base",
      "model_module_version": "1.2.0",
      "model_name": "LayoutModel",
      "state": {}
     },
     "107ac96f7f594655bd661c6b965ea7df": {
      "model_module": "@jupyter-widgets/base",
      "model_module_version": "1.2.0",
      "model_name": "LayoutModel",
      "state": {
       "margin": "0px 0px 10px 0px"
      }
     },
     "1f2a2dc802e44e9286b1e6640b03723d": {
      "model_module": "@jupyter-widgets/controls",
      "model_module_version": "1.5.0",
      "model_name": "HTMLModel",
      "state": {
       "layout": "IPY_MODEL_107ac96f7f594655bd661c6b965ea7df",
       "style": "IPY_MODEL_6c97ff489e844d7b965691140433392b",
       "value": "<p style='font-family: IBM Plex Sans, Arial, Helvetica, sans-serif; font-size: 20px; font-weight: medium;'>Circuit Properties</p>"
      }
     },
     "217fc0cc179b43bead2c4436dac0b396": {
      "model_module": "@jupyter-widgets/controls",
      "model_module_version": "1.5.0",
      "model_name": "HBoxModel",
      "state": {
       "children": [
        "IPY_MODEL_9b74733b926940b6b58faf3e8da51b1d",
        "IPY_MODEL_9ffcc6ce25884f58b95a387b80e31d50",
        "IPY_MODEL_5ac237b92ea349f1ba515436cde92887",
        "IPY_MODEL_e77275a5edc547848c05c8bc2f42f042",
        "IPY_MODEL_a09fb341f03b456a8786a381a4010bf5"
       ],
       "layout": "IPY_MODEL_70173b6c06cd4832a18457b3cd2d96d4"
      }
     },
     "26cb40d129b24116a06c836de050f8a0": {
      "model_module": "@jupyter-widgets/controls",
      "model_module_version": "1.5.0",
      "model_name": "DescriptionStyleModel",
      "state": {
       "description_width": ""
      }
     },
     "2dbcbdcc81f3498aacc0af21f572cc99": {
      "model_module": "@jupyter-widgets/base",
      "model_module_version": "1.2.0",
      "model_name": "LayoutModel",
      "state": {
       "grid_template_areas": "\n                                       \". . . . right \"\n                                        ",
       "grid_template_columns": "20% 20% 20% 20% 20%",
       "width": "100%"
      }
     },
     "391cfcacd87e47c1b4819fbc03333c8a": {
      "model_module": "@jupyter-widgets/base",
      "model_module_version": "1.2.0",
      "model_name": "LayoutModel",
      "state": {
       "width": "190px"
      }
     },
     "5ac237b92ea349f1ba515436cde92887": {
      "model_module": "@jupyter-widgets/controls",
      "model_module_version": "1.5.0",
      "model_name": "HTMLModel",
      "state": {
       "layout": "IPY_MODEL_e127aa01b9e64b69843c82b713074029",
       "style": "IPY_MODEL_8ee7b58d9f594a008c8f736c1010ad98",
       "value": "<h5>Status</h5>"
      }
     },
     "6c97ff489e844d7b965691140433392b": {
      "model_module": "@jupyter-widgets/controls",
      "model_module_version": "1.5.0",
      "model_name": "DescriptionStyleModel",
      "state": {
       "description_width": ""
      }
     },
     "70173b6c06cd4832a18457b3cd2d96d4": {
      "model_module": "@jupyter-widgets/base",
      "model_module_version": "1.2.0",
      "model_name": "LayoutModel",
      "state": {
       "margin": "0px 0px 0px 37px",
       "width": "600px"
      }
     },
     "8a146198d9594b8e88de7a48a6668324": {
      "model_module": "@jupyter-widgets/controls",
      "model_module_version": "1.5.0",
      "model_name": "DescriptionStyleModel",
      "state": {
       "description_width": ""
      }
     },
     "8be61a985ac84bb08dd36eaa425dccbe": {
      "model_module": "@jupyter-widgets/controls",
      "model_module_version": "1.5.0",
      "model_name": "GridBoxModel",
      "state": {
       "children": [
        "IPY_MODEL_d2cfca03577042c493d0d79b618eccfe"
       ],
       "layout": "IPY_MODEL_2dbcbdcc81f3498aacc0af21f572cc99"
      }
     },
     "8ee7b58d9f594a008c8f736c1010ad98": {
      "model_module": "@jupyter-widgets/controls",
      "model_module_version": "1.5.0",
      "model_name": "DescriptionStyleModel",
      "state": {
       "description_width": ""
      }
     },
     "9b74733b926940b6b58faf3e8da51b1d": {
      "model_module": "@jupyter-widgets/controls",
      "model_module_version": "1.5.0",
      "model_name": "HTMLModel",
      "state": {
       "layout": "IPY_MODEL_391cfcacd87e47c1b4819fbc03333c8a",
       "style": "IPY_MODEL_c759a3a7451f4126bdc45093aed06c69",
       "value": "<h5>Job ID</h5>"
      }
     },
     "9f98a9197a1b4944bbf0c5930020d364": {
      "model_module": "@jupyter-widgets/controls",
      "model_module_version": "1.5.0",
      "model_name": "ButtonStyleModel",
      "state": {}
     },
     "9ffcc6ce25884f58b95a387b80e31d50": {
      "model_module": "@jupyter-widgets/controls",
      "model_module_version": "1.5.0",
      "model_name": "HTMLModel",
      "state": {
       "layout": "IPY_MODEL_be678624cb3143509a525c56a1c24c7d",
       "style": "IPY_MODEL_26cb40d129b24116a06c836de050f8a0",
       "value": "<h5>Backend</h5>"
      }
     },
     "a09fb341f03b456a8786a381a4010bf5": {
      "model_module": "@jupyter-widgets/controls",
      "model_module_version": "1.5.0",
      "model_name": "HTMLModel",
      "state": {
       "layout": "IPY_MODEL_0d66d532161d436197683b8915023333",
       "style": "IPY_MODEL_8a146198d9594b8e88de7a48a6668324",
       "value": "<h5>Message</h5>"
      }
     },
     "ac13cbcc910e4090bedeb3e50a979672": {
      "model_module": "@jupyter-widgets/base",
      "model_module_version": "1.2.0",
      "model_name": "LayoutModel",
      "state": {
       "grid_area": "right",
       "padding": "0px 0px 0px 0px",
       "width": "70px"
      }
     },
     "b7a3b377fb6f4d2fb683fcb398bf8b6d": {
      "model_module": "@jupyter-widgets/base",
      "model_module_version": "1.2.0",
      "model_name": "LayoutModel",
      "state": {
       "width": "70px"
      }
     },
     "be678624cb3143509a525c56a1c24c7d": {
      "model_module": "@jupyter-widgets/base",
      "model_module_version": "1.2.0",
      "model_name": "LayoutModel",
      "state": {
       "width": "145px"
      }
     },
     "c759a3a7451f4126bdc45093aed06c69": {
      "model_module": "@jupyter-widgets/controls",
      "model_module_version": "1.5.0",
      "model_name": "DescriptionStyleModel",
      "state": {
       "description_width": ""
      }
     },
     "d2cfca03577042c493d0d79b618eccfe": {
      "model_module": "@jupyter-widgets/controls",
      "model_module_version": "1.5.0",
      "model_name": "ButtonModel",
      "state": {
       "button_style": "primary",
       "description": "Clear",
       "layout": "IPY_MODEL_ac13cbcc910e4090bedeb3e50a979672",
       "style": "IPY_MODEL_9f98a9197a1b4944bbf0c5930020d364"
      }
     },
     "e127aa01b9e64b69843c82b713074029": {
      "model_module": "@jupyter-widgets/base",
      "model_module_version": "1.2.0",
      "model_name": "LayoutModel",
      "state": {
       "width": "95px"
      }
     },
     "e77275a5edc547848c05c8bc2f42f042": {
      "model_module": "@jupyter-widgets/controls",
      "model_module_version": "1.5.0",
      "model_name": "HTMLModel",
      "state": {
       "layout": "IPY_MODEL_b7a3b377fb6f4d2fb683fcb398bf8b6d",
       "style": "IPY_MODEL_ef99f760f5b742fd9a82a198435118bb",
       "value": "<h5>Queue</h5>"
      }
     },
     "ef99f760f5b742fd9a82a198435118bb": {
      "model_module": "@jupyter-widgets/controls",
      "model_module_version": "1.5.0",
      "model_name": "DescriptionStyleModel",
      "state": {
       "description_width": ""
      }
     }
    },
    "version_major": 2,
    "version_minor": 0
   }
  }
 },
 "nbformat": 4,
 "nbformat_minor": 5
}
